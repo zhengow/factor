{
 "cells": [
  {
   "cell_type": "code",
   "execution_count": 2,
   "metadata": {},
   "outputs": [],
   "source": [
    "from binance.um_futures import UMFutures\n",
    "# time.mktime(time.strptime('2018-01-01 00:00:00'))\n",
    "# 将时间字符串转为时间戳\n",
    "\n",
    "um_futures_client = UMFutures()\n",
    "instruments = um_futures_client.exchange_info()['symbols']\n",
    "instruments = [i['pair'] for i in instruments if i['contractType'] == 'PERPETUAL' and i['pair'].endswith('USDT')]\n",
    "# instruments\n"
   ]
  },
  {
   "cell_type": "code",
   "execution_count": 3,
   "metadata": {},
   "outputs": [],
   "source": [
    "import time\n",
    "import dolphindb as ddb\n",
    "import pandas as pd\n",
    "\n",
    "def get_start_time(instrument):\n",
    "    sess = ddb.session(host='localhost', port=8848, userid='admin', password='123456')\n",
    "    df = sess.run(f\"select max(trade_time) as t from loadTable('dfs://crypto_db', 'k_hour') where instrument = '{instrument}'\")\n",
    "    sess.close()\n",
    "    if pd.isna(df['t'].iloc[0]):\n",
    "        start_time = int(time.mktime(time.strptime('2018-01-01 00:00:00', '%Y-%m-%d %H:%M:%S'))) * 1000\n",
    "    else:\n",
    "        print(df)\n",
    "        start_time = int(df.iloc[0]['t'].tz_localize('Asia/Shanghai').timestamp()) * 1000\n",
    "    return start_time"
   ]
  },
  {
   "cell_type": "code",
   "execution_count": 4,
   "metadata": {},
   "outputs": [
    {
     "name": "stdout",
     "output_type": "stream",
     "text": [
      "BTCUSDT\n",
      "                    t\n",
      "0 2023-11-15 22:00:00\n"
     ]
    },
    {
     "name": "stderr",
     "output_type": "stream",
     "text": [
      "100%|█████████▉| 8672400001/8688989000 [00:01<00:00, 6779745171.39it/s]\n"
     ]
    },
    {
     "name": "stdout",
     "output_type": "stream",
     "text": [
      "done\n",
      "ETHUSDT\n",
      "                    t\n",
      "0 2023-11-15 22:00:00\n"
     ]
    },
    {
     "name": "stderr",
     "output_type": "stream",
     "text": [
      "100%|█████████▉| 8672400001/8688990000 [00:01<00:00, 7906209262.57it/s]\n"
     ]
    },
    {
     "name": "stdout",
     "output_type": "stream",
     "text": [
      "done\n",
      "BCHUSDT\n",
      "                    t\n",
      "0 2023-11-15 22:00:00\n"
     ]
    },
    {
     "name": "stderr",
     "output_type": "stream",
     "text": [
      "100%|█████████▉| 8672400001/8688991000 [00:01<00:00, 7475118583.40it/s]\n"
     ]
    },
    {
     "name": "stdout",
     "output_type": "stream",
     "text": [
      "done\n",
      "XRPUSDT\n",
      "                    t\n",
      "0 2023-11-15 22:00:00\n"
     ]
    },
    {
     "name": "stderr",
     "output_type": "stream",
     "text": [
      "100%|█████████▉| 8672400001/8688992000 [00:01<00:00, 5299912390.60it/s]\n"
     ]
    },
    {
     "name": "stdout",
     "output_type": "stream",
     "text": [
      "done\n",
      "EOSUSDT\n",
      "                    t\n",
      "0 2023-11-15 22:00:00\n"
     ]
    },
    {
     "name": "stderr",
     "output_type": "stream",
     "text": [
      "100%|█████████▉| 8672400001/8688994000 [00:00<00:00, 9042094397.01it/s]\n"
     ]
    },
    {
     "name": "stdout",
     "output_type": "stream",
     "text": [
      "done\n",
      "LTCUSDT\n",
      "                    t\n",
      "0 2023-11-15 22:00:00\n"
     ]
    },
    {
     "name": "stderr",
     "output_type": "stream",
     "text": [
      "100%|█████████▉| 8672400001/8688995000 [00:01<00:00, 8213306692.36it/s]\n"
     ]
    },
    {
     "name": "stdout",
     "output_type": "stream",
     "text": [
      "done\n",
      "TRXUSDT\n",
      "                    t\n",
      "0 2023-11-15 22:00:00\n"
     ]
    },
    {
     "name": "stderr",
     "output_type": "stream",
     "text": [
      "100%|█████████▉| 8672400001/8688996000 [00:01<00:00, 8023602725.91it/s]\n"
     ]
    },
    {
     "name": "stdout",
     "output_type": "stream",
     "text": [
      "done\n",
      "ETCUSDT\n",
      "                    t\n",
      "0 2023-11-15 22:00:00\n"
     ]
    },
    {
     "name": "stderr",
     "output_type": "stream",
     "text": [
      "100%|█████████▉| 8672400001/8688997000 [00:01<00:00, 7758364766.37it/s]\n"
     ]
    },
    {
     "name": "stdout",
     "output_type": "stream",
     "text": [
      "done\n",
      "LINKUSDT\n",
      "                    t\n",
      "0 2023-11-15 22:00:00\n"
     ]
    },
    {
     "name": "stderr",
     "output_type": "stream",
     "text": [
      "100%|█████████▉| 8672400001/8688999000 [00:01<00:00, 8021100920.07it/s]\n"
     ]
    },
    {
     "name": "stdout",
     "output_type": "stream",
     "text": [
      "done\n",
      "XLMUSDT\n",
      "                    t\n",
      "0 2023-11-15 22:00:00\n"
     ]
    },
    {
     "name": "stderr",
     "output_type": "stream",
     "text": [
      "100%|█████████▉| 8672400001/8689000000 [00:00<00:00, 9191263337.57it/s]\n"
     ]
    },
    {
     "name": "stdout",
     "output_type": "stream",
     "text": [
      "done\n",
      "ADAUSDT\n",
      "                    t\n",
      "0 2023-11-15 22:00:00\n"
     ]
    },
    {
     "name": "stderr",
     "output_type": "stream",
     "text": [
      "100%|█████████▉| 8672400001/8689001000 [00:01<00:00, 7287173023.70it/s]\n"
     ]
    },
    {
     "name": "stdout",
     "output_type": "stream",
     "text": [
      "done\n",
      "XMRUSDT\n",
      "                    t\n",
      "0 2023-11-15 22:00:00\n"
     ]
    },
    {
     "name": "stderr",
     "output_type": "stream",
     "text": [
      "100%|█████████▉| 8672400001/8689002000 [00:00<00:00, 9050087544.36it/s]\n"
     ]
    },
    {
     "name": "stdout",
     "output_type": "stream",
     "text": [
      "done\n",
      "DASHUSDT\n",
      "                    t\n",
      "0 2023-11-15 22:00:00\n"
     ]
    },
    {
     "name": "stderr",
     "output_type": "stream",
     "text": [
      "100%|█████████▉| 8672400001/8689003000 [00:01<00:00, 7409509394.28it/s]\n"
     ]
    },
    {
     "name": "stdout",
     "output_type": "stream",
     "text": [
      "done\n",
      "ZECUSDT\n",
      "                    t\n",
      "0 2023-11-15 22:00:00\n"
     ]
    },
    {
     "name": "stderr",
     "output_type": "stream",
     "text": [
      "100%|█████████▉| 8672400001/8689004000 [00:01<00:00, 7163283731.89it/s]\n"
     ]
    },
    {
     "name": "stdout",
     "output_type": "stream",
     "text": [
      "done\n",
      "XTZUSDT\n",
      "                    t\n",
      "0 2023-11-15 22:00:00\n"
     ]
    },
    {
     "name": "stderr",
     "output_type": "stream",
     "text": [
      "100%|█████████▉| 8672400001/8689006000 [00:01<00:00, 7986284331.73it/s]\n"
     ]
    },
    {
     "name": "stdout",
     "output_type": "stream",
     "text": [
      "done\n",
      "BNBUSDT\n",
      "                    t\n",
      "0 2023-11-15 22:00:00\n"
     ]
    },
    {
     "name": "stderr",
     "output_type": "stream",
     "text": [
      "100%|█████████▉| 8672400001/8689007000 [00:01<00:00, 5779279637.88it/s]\n"
     ]
    },
    {
     "name": "stdout",
     "output_type": "stream",
     "text": [
      "done\n",
      "ATOMUSDT\n",
      "                    t\n",
      "0 2023-11-15 22:00:00\n"
     ]
    },
    {
     "name": "stderr",
     "output_type": "stream",
     "text": [
      "100%|█████████▉| 8672400001/8689008000 [00:01<00:00, 8182196332.99it/s]\n"
     ]
    },
    {
     "name": "stdout",
     "output_type": "stream",
     "text": [
      "done\n",
      "ONTUSDT\n",
      "                    t\n",
      "0 2023-11-15 22:00:00\n"
     ]
    },
    {
     "name": "stderr",
     "output_type": "stream",
     "text": [
      "100%|█████████▉| 8672400001/8689009000 [00:01<00:00, 8000097214.69it/s]\n"
     ]
    },
    {
     "name": "stdout",
     "output_type": "stream",
     "text": [
      "done\n",
      "IOTAUSDT\n",
      "                    t\n",
      "0 2023-11-15 22:00:00\n"
     ]
    },
    {
     "name": "stderr",
     "output_type": "stream",
     "text": [
      "100%|█████████▉| 8672400001/8689010000 [00:01<00:00, 7608882653.54it/s]\n"
     ]
    },
    {
     "name": "stdout",
     "output_type": "stream",
     "text": [
      "done\n",
      "BATUSDT\n",
      "                    t\n",
      "0 2023-11-15 22:00:00\n"
     ]
    },
    {
     "name": "stderr",
     "output_type": "stream",
     "text": [
      "100%|█████████▉| 8672400001/8689012000 [00:01<00:00, 6462925406.58it/s]\n"
     ]
    },
    {
     "name": "stdout",
     "output_type": "stream",
     "text": [
      "done\n",
      "VETUSDT\n",
      "                    t\n",
      "0 2023-11-15 22:00:00\n"
     ]
    },
    {
     "name": "stderr",
     "output_type": "stream",
     "text": [
      "100%|█████████▉| 8672400001/8689013000 [00:01<00:00, 5419802098.21it/s]\n"
     ]
    },
    {
     "name": "stdout",
     "output_type": "stream",
     "text": [
      "done\n",
      "NEOUSDT\n",
      "                    t\n",
      "0 2023-11-15 22:00:00\n"
     ]
    },
    {
     "name": "stderr",
     "output_type": "stream",
     "text": [
      "100%|█████████▉| 8672400001/8689015000 [00:00<00:00, 9179999216.08it/s]\n"
     ]
    },
    {
     "name": "stdout",
     "output_type": "stream",
     "text": [
      "done\n",
      "QTUMUSDT\n",
      "                    t\n",
      "0 2023-11-15 22:00:00\n"
     ]
    },
    {
     "name": "stderr",
     "output_type": "stream",
     "text": [
      "100%|█████████▉| 8672400001/8689016000 [00:00<00:00, 9192482799.18it/s]\n"
     ]
    },
    {
     "name": "stdout",
     "output_type": "stream",
     "text": [
      "done\n",
      "IOSTUSDT\n",
      "                    t\n",
      "0 2023-11-15 22:00:00\n"
     ]
    },
    {
     "name": "stderr",
     "output_type": "stream",
     "text": [
      "100%|█████████▉| 8672400001/8689017000 [00:01<00:00, 7890117844.97it/s]\n"
     ]
    },
    {
     "name": "stdout",
     "output_type": "stream",
     "text": [
      "done\n",
      "THETAUSDT\n",
      "                    t\n",
      "0 2023-11-15 22:00:00\n"
     ]
    },
    {
     "name": "stderr",
     "output_type": "stream",
     "text": [
      "100%|█████████▉| 8672400001/8689018000 [00:01<00:00, 8238621093.91it/s]\n"
     ]
    },
    {
     "name": "stdout",
     "output_type": "stream",
     "text": [
      "done\n",
      "ALGOUSDT\n",
      "                    t\n",
      "0 2023-11-15 22:00:00\n"
     ]
    },
    {
     "name": "stderr",
     "output_type": "stream",
     "text": [
      "100%|█████████▉| 8672400001/8689019000 [00:01<00:00, 8479318444.21it/s]\n"
     ]
    },
    {
     "name": "stdout",
     "output_type": "stream",
     "text": [
      "done\n",
      "ZILUSDT\n",
      "                    t\n",
      "0 2023-11-15 22:00:00\n"
     ]
    },
    {
     "name": "stderr",
     "output_type": "stream",
     "text": [
      "100%|█████████▉| 8672400001/8689020000 [00:00<00:00, 8994159126.87it/s]\n"
     ]
    },
    {
     "name": "stdout",
     "output_type": "stream",
     "text": [
      "done\n",
      "KNCUSDT\n",
      "                    t\n",
      "0 2023-11-15 22:00:00\n"
     ]
    },
    {
     "name": "stderr",
     "output_type": "stream",
     "text": [
      "100%|█████████▉| 8672400001/8689021000 [00:00<00:00, 8860752337.14it/s]\n"
     ]
    },
    {
     "name": "stdout",
     "output_type": "stream",
     "text": [
      "done\n",
      "ZRXUSDT\n",
      "                    t\n",
      "0 2023-11-15 22:00:00\n"
     ]
    },
    {
     "name": "stderr",
     "output_type": "stream",
     "text": [
      "100%|█████████▉| 8672400001/8689022000 [00:01<00:00, 7456017722.79it/s]\n"
     ]
    },
    {
     "name": "stdout",
     "output_type": "stream",
     "text": [
      "done\n",
      "COMPUSDT\n",
      "                    t\n",
      "0 2023-11-15 22:00:00\n"
     ]
    },
    {
     "name": "stderr",
     "output_type": "stream",
     "text": [
      "100%|█████████▉| 8672400001/8689024000 [00:01<00:00, 6137484915.79it/s]\n"
     ]
    },
    {
     "name": "stdout",
     "output_type": "stream",
     "text": [
      "done\n",
      "OMGUSDT\n",
      "                    t\n",
      "0 2023-11-15 22:00:00\n"
     ]
    },
    {
     "name": "stderr",
     "output_type": "stream",
     "text": [
      "100%|█████████▉| 8672400001/8689025000 [00:01<00:00, 7549527828.95it/s]\n"
     ]
    },
    {
     "name": "stdout",
     "output_type": "stream",
     "text": [
      "done\n",
      "DOGEUSDT\n",
      "                    t\n",
      "0 2023-11-15 22:00:00\n"
     ]
    },
    {
     "name": "stderr",
     "output_type": "stream",
     "text": [
      "100%|█████████▉| 8672400001/8689026000 [00:01<00:00, 8338309316.22it/s]\n"
     ]
    },
    {
     "name": "stdout",
     "output_type": "stream",
     "text": [
      "done\n",
      "SXPUSDT\n",
      "                    t\n",
      "0 2023-11-15 22:00:00\n"
     ]
    },
    {
     "name": "stderr",
     "output_type": "stream",
     "text": [
      "100%|█████████▉| 8672400001/8689027000 [00:01<00:00, 6660067026.73it/s]\n"
     ]
    },
    {
     "name": "stdout",
     "output_type": "stream",
     "text": [
      "done\n",
      "KAVAUSDT\n",
      "                    t\n",
      "0 2023-11-15 22:00:00\n"
     ]
    },
    {
     "name": "stderr",
     "output_type": "stream",
     "text": [
      "100%|█████████▉| 8672400001/8689029000 [00:01<00:00, 8606636032.01it/s]\n"
     ]
    },
    {
     "name": "stdout",
     "output_type": "stream",
     "text": [
      "done\n",
      "BANDUSDT\n",
      "                    t\n",
      "0 2023-11-15 22:00:00\n"
     ]
    },
    {
     "name": "stderr",
     "output_type": "stream",
     "text": [
      "100%|█████████▉| 8672400001/8689030000 [00:01<00:00, 7966505564.18it/s]\n"
     ]
    },
    {
     "name": "stdout",
     "output_type": "stream",
     "text": [
      "done\n",
      "RLCUSDT\n",
      "                    t\n",
      "0 2023-11-15 22:00:00\n"
     ]
    },
    {
     "name": "stderr",
     "output_type": "stream",
     "text": [
      "100%|█████████▉| 8672400001/8689031000 [00:01<00:00, 8670353499.37it/s]\n"
     ]
    },
    {
     "name": "stdout",
     "output_type": "stream",
     "text": [
      "done\n",
      "WAVESUSDT\n",
      "                    t\n",
      "0 2023-11-15 22:00:00\n"
     ]
    },
    {
     "name": "stderr",
     "output_type": "stream",
     "text": [
      "100%|█████████▉| 8672400001/8689032000 [00:01<00:00, 8008754556.51it/s]\n"
     ]
    },
    {
     "name": "stdout",
     "output_type": "stream",
     "text": [
      "done\n",
      "MKRUSDT\n",
      "                    t\n",
      "0 2023-11-15 22:00:00\n"
     ]
    },
    {
     "name": "stderr",
     "output_type": "stream",
     "text": [
      "100%|█████████▉| 8672400001/8689033000 [00:01<00:00, 6962315887.25it/s]\n"
     ]
    },
    {
     "name": "stdout",
     "output_type": "stream",
     "text": [
      "done\n",
      "SNXUSDT\n",
      "                    t\n",
      "0 2023-11-15 22:00:00\n"
     ]
    },
    {
     "name": "stderr",
     "output_type": "stream",
     "text": [
      "100%|█████████▉| 8672400001/8689035000 [00:01<00:00, 8341188913.31it/s]\n"
     ]
    },
    {
     "name": "stdout",
     "output_type": "stream",
     "text": [
      "done\n",
      "DOTUSDT\n",
      "                    t\n",
      "0 2023-11-15 22:00:00\n"
     ]
    },
    {
     "name": "stderr",
     "output_type": "stream",
     "text": [
      "100%|█████████▉| 8672400001/8689036000 [00:01<00:00, 7491045576.60it/s]\n"
     ]
    },
    {
     "name": "stdout",
     "output_type": "stream",
     "text": [
      "done\n",
      "DEFIUSDT\n",
      "                    t\n",
      "0 2023-11-15 22:00:00\n"
     ]
    },
    {
     "name": "stderr",
     "output_type": "stream",
     "text": [
      "100%|█████████▉| 8672400001/8689037000 [00:00<00:00, 8818126107.89it/s]\n"
     ]
    },
    {
     "name": "stdout",
     "output_type": "stream",
     "text": [
      "done\n",
      "YFIUSDT\n",
      "                    t\n",
      "0 2023-11-15 22:00:00\n"
     ]
    },
    {
     "name": "stderr",
     "output_type": "stream",
     "text": [
      "100%|█████████▉| 8672400001/8689038000 [00:01<00:00, 7122711242.62it/s]\n"
     ]
    },
    {
     "name": "stdout",
     "output_type": "stream",
     "text": [
      "done\n",
      "BALUSDT\n",
      "                    t\n",
      "0 2023-11-15 22:00:00\n"
     ]
    },
    {
     "name": "stderr",
     "output_type": "stream",
     "text": [
      "100%|█████████▉| 8672400001/8689039000 [00:01<00:00, 7223332912.43it/s]\n"
     ]
    },
    {
     "name": "stdout",
     "output_type": "stream",
     "text": [
      "done\n",
      "CRVUSDT\n",
      "                    t\n",
      "0 2023-11-15 22:00:00\n"
     ]
    },
    {
     "name": "stderr",
     "output_type": "stream",
     "text": [
      "100%|█████████▉| 8672400001/8689041000 [00:01<00:00, 8216258330.41it/s]\n"
     ]
    },
    {
     "name": "stdout",
     "output_type": "stream",
     "text": [
      "done\n",
      "TRBUSDT\n",
      "                    t\n",
      "0 2023-11-15 22:00:00\n"
     ]
    },
    {
     "name": "stderr",
     "output_type": "stream",
     "text": [
      "100%|█████████▉| 8672400001/8689042000 [00:01<00:00, 8641076822.71it/s]\n"
     ]
    },
    {
     "name": "stdout",
     "output_type": "stream",
     "text": [
      "done\n",
      "RUNEUSDT\n",
      "                    t\n",
      "0 2023-11-15 22:00:00\n"
     ]
    },
    {
     "name": "stderr",
     "output_type": "stream",
     "text": [
      "100%|█████████▉| 8672400001/8689043000 [00:01<00:00, 6965631706.22it/s]\n"
     ]
    },
    {
     "name": "stdout",
     "output_type": "stream",
     "text": [
      "done\n",
      "SUSHIUSDT\n",
      "                    t\n",
      "0 2023-11-15 22:00:00\n"
     ]
    },
    {
     "name": "stderr",
     "output_type": "stream",
     "text": [
      "100%|█████████▉| 8672400001/8689044000 [00:01<00:00, 7431006867.60it/s]\n"
     ]
    },
    {
     "name": "stdout",
     "output_type": "stream",
     "text": [
      "done\n",
      "SRMUSDT\n",
      "                    t\n",
      "0 2023-11-15 22:00:00\n"
     ]
    },
    {
     "name": "stderr",
     "output_type": "stream",
     "text": [
      "100%|█████████▉| 8672400001/8689045000 [00:00<00:00, 9448119051.70it/s] \n"
     ]
    },
    {
     "name": "stdout",
     "output_type": "stream",
     "text": [
      "done\n",
      "EGLDUSDT\n",
      "                    t\n",
      "0 2023-11-15 22:00:00\n"
     ]
    },
    {
     "name": "stderr",
     "output_type": "stream",
     "text": [
      "100%|█████████▉| 8672400001/8689046000 [00:01<00:00, 4417380600.20it/s]\n"
     ]
    },
    {
     "name": "stdout",
     "output_type": "stream",
     "text": [
      "done\n",
      "SOLUSDT\n",
      "                    t\n",
      "0 2023-11-15 22:00:00\n"
     ]
    },
    {
     "name": "stderr",
     "output_type": "stream",
     "text": [
      "100%|█████████▉| 8672400001/8689048000 [00:01<00:00, 6017092167.24it/s]\n"
     ]
    },
    {
     "name": "stdout",
     "output_type": "stream",
     "text": [
      "done\n",
      "ICXUSDT\n",
      "                    t\n",
      "0 2023-11-15 22:00:00\n"
     ]
    },
    {
     "name": "stderr",
     "output_type": "stream",
     "text": [
      "100%|█████████▉| 8672400001/8689050000 [00:01<00:00, 6683043315.28it/s]\n"
     ]
    },
    {
     "name": "stdout",
     "output_type": "stream",
     "text": [
      "done\n",
      "STORJUSDT\n",
      "                    t\n",
      "0 2023-11-15 22:00:00\n"
     ]
    },
    {
     "name": "stderr",
     "output_type": "stream",
     "text": [
      "100%|█████████▉| 8672400001/8689051000 [00:01<00:00, 7834160731.42it/s]\n"
     ]
    },
    {
     "name": "stdout",
     "output_type": "stream",
     "text": [
      "done\n",
      "BLZUSDT\n",
      "                    t\n",
      "0 2023-11-15 22:00:00\n"
     ]
    },
    {
     "name": "stderr",
     "output_type": "stream",
     "text": [
      "100%|█████████▉| 8672400001/8689052000 [00:01<00:00, 6558804185.45it/s]\n"
     ]
    },
    {
     "name": "stdout",
     "output_type": "stream",
     "text": [
      "done\n",
      "UNIUSDT\n",
      "                    t\n",
      "0 2023-11-15 22:00:00\n"
     ]
    },
    {
     "name": "stderr",
     "output_type": "stream",
     "text": [
      "100%|█████████▉| 8672400001/8689054000 [00:01<00:00, 6927822036.32it/s]\n"
     ]
    },
    {
     "name": "stdout",
     "output_type": "stream",
     "text": [
      "done\n",
      "AVAXUSDT\n",
      "                    t\n",
      "0 2023-11-15 22:00:00\n"
     ]
    },
    {
     "name": "stderr",
     "output_type": "stream",
     "text": [
      "100%|█████████▉| 8672400001/8689055000 [00:02<00:00, 3540915922.37it/s]\n"
     ]
    },
    {
     "name": "stdout",
     "output_type": "stream",
     "text": [
      "done\n",
      "FTMUSDT\n",
      "                    t\n",
      "0 2023-11-15 22:00:00\n"
     ]
    },
    {
     "name": "stderr",
     "output_type": "stream",
     "text": [
      "100%|█████████▉| 8672400001/8689058000 [00:02<00:00, 4099816846.62it/s]\n"
     ]
    },
    {
     "name": "stdout",
     "output_type": "stream",
     "text": [
      "done\n",
      "HNTUSDT\n",
      "                    t\n",
      "0 2023-11-15 22:00:00\n"
     ]
    },
    {
     "name": "stderr",
     "output_type": "stream",
     "text": [
      "100%|█████████▉| 8672400001/8689060000 [00:01<00:00, 7857229386.83it/s]\n"
     ]
    },
    {
     "name": "stdout",
     "output_type": "stream",
     "text": [
      "done\n",
      "ENJUSDT\n",
      "                    t\n",
      "0 2023-11-15 22:00:00\n"
     ]
    },
    {
     "name": "stderr",
     "output_type": "stream",
     "text": [
      "100%|█████████▉| 8672400001/8689061000 [00:01<00:00, 6832324741.36it/s]\n"
     ]
    },
    {
     "name": "stdout",
     "output_type": "stream",
     "text": [
      "done\n",
      "FLMUSDT\n",
      "                    t\n",
      "0 2023-11-15 22:00:00\n"
     ]
    },
    {
     "name": "stderr",
     "output_type": "stream",
     "text": [
      "100%|█████████▉| 8672400001/8689062000 [00:01<00:00, 7211555483.92it/s]\n"
     ]
    },
    {
     "name": "stdout",
     "output_type": "stream",
     "text": [
      "done\n",
      "TOMOUSDT\n",
      "                    t\n",
      "0 2023-11-15 22:00:00\n"
     ]
    },
    {
     "name": "stderr",
     "output_type": "stream",
     "text": [
      "100%|█████████▉| 8672400001/8689064000 [00:01<00:00, 7902803040.39it/s]\n"
     ]
    },
    {
     "name": "stdout",
     "output_type": "stream",
     "text": [
      "done\n",
      "RENUSDT\n",
      "                    t\n",
      "0 2023-11-15 22:00:00\n"
     ]
    },
    {
     "name": "stderr",
     "output_type": "stream",
     "text": [
      "100%|█████████▉| 8672400001/8689065000 [00:01<00:00, 6759080662.93it/s]\n"
     ]
    },
    {
     "name": "stdout",
     "output_type": "stream",
     "text": [
      "done\n",
      "KSMUSDT\n",
      "                    t\n",
      "0 2023-11-15 22:00:00\n"
     ]
    },
    {
     "name": "stderr",
     "output_type": "stream",
     "text": [
      "100%|█████████▉| 8672400001/8689066000 [00:01<00:00, 6087129297.08it/s]\n"
     ]
    },
    {
     "name": "stdout",
     "output_type": "stream",
     "text": [
      "done\n",
      "NEARUSDT\n",
      "                    t\n",
      "0 2023-11-15 22:00:00\n"
     ]
    },
    {
     "name": "stderr",
     "output_type": "stream",
     "text": [
      "100%|█████████▉| 8672400001/8689068000 [00:01<00:00, 6768470692.55it/s]\n"
     ]
    },
    {
     "name": "stdout",
     "output_type": "stream",
     "text": [
      "done\n",
      "AAVEUSDT\n",
      "                    t\n",
      "0 2023-11-15 22:00:00\n"
     ]
    },
    {
     "name": "stderr",
     "output_type": "stream",
     "text": [
      "100%|█████████▉| 8672400001/8689069000 [00:01<00:00, 5161903839.42it/s]\n"
     ]
    },
    {
     "name": "stdout",
     "output_type": "stream",
     "text": [
      "done\n",
      "FILUSDT\n",
      "                    t\n",
      "0 2023-11-15 22:00:00\n"
     ]
    },
    {
     "name": "stderr",
     "output_type": "stream",
     "text": [
      "100%|█████████▉| 8672400001/8689071000 [00:01<00:00, 6886799156.99it/s]\n"
     ]
    },
    {
     "name": "stdout",
     "output_type": "stream",
     "text": [
      "done\n",
      "RSRUSDT\n",
      "                    t\n",
      "0 2023-11-15 22:00:00\n"
     ]
    },
    {
     "name": "stderr",
     "output_type": "stream",
     "text": [
      "100%|█████████▉| 8672400001/8689072000 [00:02<00:00, 4214320125.89it/s]\n"
     ]
    },
    {
     "name": "stdout",
     "output_type": "stream",
     "text": [
      "done\n",
      "LRCUSDT\n",
      "                    t\n",
      "0 2023-11-15 22:00:00\n"
     ]
    },
    {
     "name": "stderr",
     "output_type": "stream",
     "text": [
      "100%|█████████▉| 8672400001/8689074000 [00:01<00:00, 6612495301.01it/s]\n"
     ]
    },
    {
     "name": "stdout",
     "output_type": "stream",
     "text": [
      "done\n",
      "MATICUSDT\n",
      "                    t\n",
      "0 2023-11-15 22:00:00\n"
     ]
    },
    {
     "name": "stderr",
     "output_type": "stream",
     "text": [
      "100%|█████████▉| 8672400001/8689076000 [00:01<00:00, 7241300561.65it/s]\n"
     ]
    },
    {
     "name": "stdout",
     "output_type": "stream",
     "text": [
      "done\n",
      "OCEANUSDT\n",
      "                    t\n",
      "0 2023-11-15 22:00:00\n"
     ]
    },
    {
     "name": "stderr",
     "output_type": "stream",
     "text": [
      "100%|█████████▉| 8672400001/8689077000 [00:01<00:00, 6264401923.72it/s]\n"
     ]
    },
    {
     "name": "stdout",
     "output_type": "stream",
     "text": [
      "done\n",
      "CVCUSDT\n",
      "                    t\n",
      "0 2023-11-15 22:00:00\n"
     ]
    },
    {
     "name": "stderr",
     "output_type": "stream",
     "text": [
      "100%|█████████▉| 8672400001/8689079000 [00:01<00:00, 7259376654.84it/s]\n"
     ]
    },
    {
     "name": "stdout",
     "output_type": "stream",
     "text": [
      "done\n",
      "BELUSDT\n",
      "                    t\n",
      "0 2023-11-15 22:00:00\n"
     ]
    },
    {
     "name": "stderr",
     "output_type": "stream",
     "text": [
      "100%|█████████▉| 8672400001/8689080000 [00:01<00:00, 6109450056.31it/s]\n"
     ]
    },
    {
     "name": "stdout",
     "output_type": "stream",
     "text": [
      "done\n",
      "CTKUSDT\n",
      "                    t\n",
      "0 2023-11-15 22:00:00\n"
     ]
    },
    {
     "name": "stderr",
     "output_type": "stream",
     "text": [
      "100%|█████████▉| 8672400001/8689081000 [00:01<00:00, 6777832541.78it/s]\n"
     ]
    },
    {
     "name": "stdout",
     "output_type": "stream",
     "text": [
      "done\n",
      "AXSUSDT\n",
      "                    t\n",
      "0 2023-11-15 22:00:00\n"
     ]
    },
    {
     "name": "stderr",
     "output_type": "stream",
     "text": [
      "100%|█████████▉| 8672400001/8689083000 [00:01<00:00, 6019435128.59it/s]\n"
     ]
    },
    {
     "name": "stdout",
     "output_type": "stream",
     "text": [
      "done\n",
      "ALPHAUSDT\n",
      "                    t\n",
      "0 2023-11-15 22:00:00\n"
     ]
    },
    {
     "name": "stderr",
     "output_type": "stream",
     "text": [
      "100%|█████████▉| 8672400001/8689084000 [00:01<00:00, 6138253408.86it/s]\n"
     ]
    },
    {
     "name": "stdout",
     "output_type": "stream",
     "text": [
      "done\n",
      "ZENUSDT\n",
      "                    t\n",
      "0 2023-11-15 22:00:00\n"
     ]
    },
    {
     "name": "stderr",
     "output_type": "stream",
     "text": [
      "100%|█████████▉| 8672400001/8689086000 [00:01<00:00, 7390741938.19it/s]\n"
     ]
    },
    {
     "name": "stdout",
     "output_type": "stream",
     "text": [
      "done\n",
      "SKLUSDT\n",
      "                    t\n",
      "0 2023-11-15 22:00:00\n"
     ]
    },
    {
     "name": "stderr",
     "output_type": "stream",
     "text": [
      "100%|█████████▉| 8672400001/8689087000 [00:01<00:00, 6789779498.47it/s]\n"
     ]
    },
    {
     "name": "stdout",
     "output_type": "stream",
     "text": [
      "done\n",
      "GRTUSDT\n",
      "                    t\n",
      "0 2023-11-15 22:00:00\n"
     ]
    },
    {
     "name": "stderr",
     "output_type": "stream",
     "text": [
      "100%|█████████▉| 8672400001/8689088000 [00:01<00:00, 6729855772.39it/s]\n"
     ]
    },
    {
     "name": "stdout",
     "output_type": "stream",
     "text": [
      "done\n",
      "1INCHUSDT\n",
      "                    t\n",
      "0 2023-11-15 22:00:00\n"
     ]
    },
    {
     "name": "stderr",
     "output_type": "stream",
     "text": [
      "100%|█████████▉| 8672400001/8689090000 [00:01<00:00, 6374960306.44it/s]\n"
     ]
    },
    {
     "name": "stdout",
     "output_type": "stream",
     "text": [
      "done\n",
      "CHZUSDT\n",
      "                    t\n",
      "0 2023-11-15 22:00:00\n"
     ]
    },
    {
     "name": "stderr",
     "output_type": "stream",
     "text": [
      "100%|█████████▉| 8672400001/8689091000 [00:01<00:00, 5379515692.02it/s]\n"
     ]
    },
    {
     "name": "stdout",
     "output_type": "stream",
     "text": [
      "done\n",
      "SANDUSDT\n",
      "                    t\n",
      "0 2023-11-15 22:00:00\n"
     ]
    },
    {
     "name": "stderr",
     "output_type": "stream",
     "text": [
      "100%|█████████▉| 8672400001/8689093000 [00:01<00:00, 4584767902.06it/s]\n"
     ]
    },
    {
     "name": "stdout",
     "output_type": "stream",
     "text": [
      "done\n",
      "ANKRUSDT\n",
      "                    t\n",
      "0 2023-11-15 22:00:00\n"
     ]
    },
    {
     "name": "stderr",
     "output_type": "stream",
     "text": [
      "100%|█████████▉| 8672400001/8689095000 [00:01<00:00, 6832431259.28it/s]\n"
     ]
    },
    {
     "name": "stdout",
     "output_type": "stream",
     "text": [
      "done\n",
      "BTSUSDT\n",
      "                    t\n",
      "0 2023-11-15 22:00:00\n"
     ]
    },
    {
     "name": "stderr",
     "output_type": "stream",
     "text": [
      "100%|█████████▉| 8672400001/8689096000 [00:01<00:00, 8563481795.89it/s]\n"
     ]
    },
    {
     "name": "stdout",
     "output_type": "stream",
     "text": [
      "done\n",
      "LITUSDT\n",
      "                    t\n",
      "0 2023-11-15 22:00:00\n"
     ]
    },
    {
     "name": "stderr",
     "output_type": "stream",
     "text": [
      "100%|█████████▉| 8672400001/8689097000 [00:01<00:00, 7640950139.98it/s]\n"
     ]
    },
    {
     "name": "stdout",
     "output_type": "stream",
     "text": [
      "done\n",
      "UNFIUSDT\n",
      "                    t\n",
      "0 2023-11-15 22:00:00\n"
     ]
    },
    {
     "name": "stderr",
     "output_type": "stream",
     "text": [
      "100%|█████████▉| 8672400001/8689099000 [00:01<00:00, 5725160614.99it/s]\n"
     ]
    },
    {
     "name": "stdout",
     "output_type": "stream",
     "text": [
      "done\n",
      "REEFUSDT\n",
      "                    t\n",
      "0 2023-11-15 22:00:00\n"
     ]
    },
    {
     "name": "stderr",
     "output_type": "stream",
     "text": [
      "100%|█████████▉| 8672400001/8689100000 [00:01<00:00, 6496266603.36it/s]\n"
     ]
    },
    {
     "name": "stdout",
     "output_type": "stream",
     "text": [
      "done\n",
      "RVNUSDT\n",
      "                    t\n",
      "0 2023-11-15 22:00:00\n"
     ]
    },
    {
     "name": "stderr",
     "output_type": "stream",
     "text": [
      "100%|█████████▉| 8672400001/8689102000 [00:01<00:00, 7223888075.29it/s]\n"
     ]
    },
    {
     "name": "stdout",
     "output_type": "stream",
     "text": [
      "done\n",
      "SFPUSDT\n",
      "                    t\n",
      "0 2023-11-15 22:00:00\n"
     ]
    },
    {
     "name": "stderr",
     "output_type": "stream",
     "text": [
      "100%|█████████▉| 8672400001/8689103000 [00:01<00:00, 7424378752.92it/s]\n"
     ]
    },
    {
     "name": "stdout",
     "output_type": "stream",
     "text": [
      "done\n",
      "XEMUSDT\n",
      "                    t\n",
      "0 2023-11-15 22:00:00\n"
     ]
    },
    {
     "name": "stderr",
     "output_type": "stream",
     "text": [
      "100%|█████████▉| 8672400001/8689104000 [00:01<00:00, 7011767924.32it/s]\n"
     ]
    },
    {
     "name": "stdout",
     "output_type": "stream",
     "text": [
      "done\n",
      "COTIUSDT\n",
      "                    t\n",
      "0 2023-11-15 22:00:00\n"
     ]
    },
    {
     "name": "stderr",
     "output_type": "stream",
     "text": [
      "100%|█████████▉| 8672400001/8689105000 [00:01<00:00, 7270680146.60it/s]\n"
     ]
    },
    {
     "name": "stdout",
     "output_type": "stream",
     "text": [
      "done\n",
      "CHRUSDT\n",
      "                    t\n",
      "0 2023-11-15 22:00:00\n"
     ]
    },
    {
     "name": "stderr",
     "output_type": "stream",
     "text": [
      "100%|█████████▉| 8672400001/8689107000 [00:01<00:00, 7633309601.94it/s]\n"
     ]
    },
    {
     "name": "stdout",
     "output_type": "stream",
     "text": [
      "done\n",
      "MANAUSDT\n",
      "                    t\n",
      "0 2023-11-15 22:00:00\n"
     ]
    },
    {
     "name": "stderr",
     "output_type": "stream",
     "text": [
      "100%|█████████▉| 8672400001/8689108000 [00:01<00:00, 6534845540.73it/s]\n"
     ]
    },
    {
     "name": "stdout",
     "output_type": "stream",
     "text": [
      "done\n",
      "ALICEUSDT\n",
      "                    t\n",
      "0 2023-11-15 22:00:00\n"
     ]
    },
    {
     "name": "stderr",
     "output_type": "stream",
     "text": [
      "100%|█████████▉| 8672400001/8689109000 [00:01<00:00, 7922292254.18it/s]\n"
     ]
    },
    {
     "name": "stdout",
     "output_type": "stream",
     "text": [
      "done\n",
      "HBARUSDT\n",
      "                    t\n",
      "0 2023-11-15 22:00:00\n"
     ]
    },
    {
     "name": "stderr",
     "output_type": "stream",
     "text": [
      "100%|█████████▉| 8672400001/8689111000 [00:01<00:00, 7576783327.68it/s]\n"
     ]
    },
    {
     "name": "stdout",
     "output_type": "stream",
     "text": [
      "done\n",
      "ONEUSDT\n",
      "                    t\n",
      "0 2023-11-15 22:00:00\n"
     ]
    },
    {
     "name": "stderr",
     "output_type": "stream",
     "text": [
      "100%|█████████▉| 8672400001/8689112000 [00:01<00:00, 5716654211.27it/s]\n"
     ]
    },
    {
     "name": "stdout",
     "output_type": "stream",
     "text": [
      "done\n",
      "LINAUSDT\n",
      "                    t\n",
      "0 2023-11-15 22:00:00\n"
     ]
    },
    {
     "name": "stderr",
     "output_type": "stream",
     "text": [
      "100%|█████████▉| 8672400001/8689113000 [00:01<00:00, 5376978969.33it/s]\n"
     ]
    },
    {
     "name": "stdout",
     "output_type": "stream",
     "text": [
      "done\n",
      "STMXUSDT\n",
      "                    t\n",
      "0 2023-11-15 22:00:00\n"
     ]
    },
    {
     "name": "stderr",
     "output_type": "stream",
     "text": [
      "100%|█████████▉| 8672400001/8689115000 [00:01<00:00, 7583964765.43it/s]\n"
     ]
    },
    {
     "name": "stdout",
     "output_type": "stream",
     "text": [
      "done\n",
      "DENTUSDT\n",
      "                    t\n",
      "0 2023-11-15 22:00:00\n"
     ]
    },
    {
     "name": "stderr",
     "output_type": "stream",
     "text": [
      "100%|█████████▉| 8672400001/8689116000 [00:01<00:00, 7030355943.76it/s]\n"
     ]
    },
    {
     "name": "stdout",
     "output_type": "stream",
     "text": [
      "done\n",
      "CELRUSDT\n",
      "                    t\n",
      "0 2023-11-15 22:00:00\n"
     ]
    },
    {
     "name": "stderr",
     "output_type": "stream",
     "text": [
      "100%|█████████▉| 8672400001/8689118000 [00:01<00:00, 6811250958.04it/s]\n"
     ]
    },
    {
     "name": "stdout",
     "output_type": "stream",
     "text": [
      "done\n",
      "HOTUSDT\n",
      "                    t\n",
      "0 2023-11-15 22:00:00\n"
     ]
    },
    {
     "name": "stderr",
     "output_type": "stream",
     "text": [
      "100%|█████████▉| 8672400001/8689119000 [00:01<00:00, 5067987844.78it/s]\n"
     ]
    },
    {
     "name": "stdout",
     "output_type": "stream",
     "text": [
      "done\n",
      "MTLUSDT\n",
      "                    t\n",
      "0 2023-11-15 22:00:00\n"
     ]
    },
    {
     "name": "stderr",
     "output_type": "stream",
     "text": [
      "100%|█████████▉| 8672400001/8689121000 [00:01<00:00, 7340894338.39it/s]\n"
     ]
    },
    {
     "name": "stdout",
     "output_type": "stream",
     "text": [
      "done\n",
      "OGNUSDT\n",
      "                    t\n",
      "0 2023-11-15 22:00:00\n"
     ]
    },
    {
     "name": "stderr",
     "output_type": "stream",
     "text": [
      "100%|█████████▉| 8672400001/8689122000 [00:01<00:00, 7320192762.49it/s]\n"
     ]
    },
    {
     "name": "stdout",
     "output_type": "stream",
     "text": [
      "done\n",
      "NKNUSDT\n",
      "                    t\n",
      "0 2023-11-15 22:00:00\n"
     ]
    },
    {
     "name": "stderr",
     "output_type": "stream",
     "text": [
      "100%|█████████▉| 8672400001/8689123000 [00:01<00:00, 4400636747.62it/s]\n"
     ]
    },
    {
     "name": "stdout",
     "output_type": "stream",
     "text": [
      "done\n",
      "SCUSDT\n",
      "                    t\n",
      "0 2023-11-15 22:00:00\n"
     ]
    },
    {
     "name": "stderr",
     "output_type": "stream",
     "text": [
      "100%|█████████▉| 8672400001/8689125000 [00:01<00:00, 8576242225.33it/s]\n"
     ]
    },
    {
     "name": "stdout",
     "output_type": "stream",
     "text": [
      "done\n",
      "DGBUSDT\n",
      "                    t\n",
      "0 2023-11-15 22:00:00\n"
     ]
    },
    {
     "name": "stderr",
     "output_type": "stream",
     "text": [
      "100%|█████████▉| 8672400001/8689126000 [00:01<00:00, 7203569201.96it/s]\n"
     ]
    },
    {
     "name": "stdout",
     "output_type": "stream",
     "text": [
      "done\n",
      "1000SHIBUSDT\n",
      "                    t\n",
      "0 2023-11-15 22:00:00\n"
     ]
    },
    {
     "name": "stderr",
     "output_type": "stream",
     "text": [
      "100%|█████████▉| 8672400001/8689128000 [00:02<00:00, 4162464916.41it/s]\n"
     ]
    },
    {
     "name": "stdout",
     "output_type": "stream",
     "text": [
      "done\n",
      "BAKEUSDT\n",
      "                    t\n",
      "0 2023-11-15 22:00:00\n"
     ]
    },
    {
     "name": "stderr",
     "output_type": "stream",
     "text": [
      "100%|█████████▉| 8672400001/8689130000 [00:01<00:00, 5782429021.96it/s]\n"
     ]
    },
    {
     "name": "stdout",
     "output_type": "stream",
     "text": [
      "done\n",
      "GTCUSDT\n",
      "                    t\n",
      "0 2023-11-15 22:00:00\n"
     ]
    },
    {
     "name": "stderr",
     "output_type": "stream",
     "text": [
      "100%|█████████▉| 8672400001/8689131000 [00:01<00:00, 6342542119.00it/s]\n"
     ]
    },
    {
     "name": "stdout",
     "output_type": "stream",
     "text": [
      "done\n",
      "BTCDOMUSDT\n",
      "                    t\n",
      "0 2023-11-15 22:00:00\n"
     ]
    },
    {
     "name": "stderr",
     "output_type": "stream",
     "text": [
      "100%|█████████▉| 8672400001/8689133000 [00:02<00:00, 4011531034.61it/s]\n"
     ]
    },
    {
     "name": "stdout",
     "output_type": "stream",
     "text": [
      "done\n",
      "IOTXUSDT\n",
      "                    t\n",
      "0 2023-11-15 22:00:00\n"
     ]
    },
    {
     "name": "stderr",
     "output_type": "stream",
     "text": [
      "100%|█████████▉| 8672400001/8689135000 [00:01<00:00, 6755131719.03it/s]\n"
     ]
    },
    {
     "name": "stdout",
     "output_type": "stream",
     "text": [
      "done\n",
      "AUDIOUSDT\n",
      "                    t\n",
      "0 2023-11-15 22:00:00\n"
     ]
    },
    {
     "name": "stderr",
     "output_type": "stream",
     "text": [
      "100%|█████████▉| 8672400001/8689136000 [00:01<00:00, 5053452029.55it/s]\n"
     ]
    },
    {
     "name": "stdout",
     "output_type": "stream",
     "text": [
      "done\n",
      "RAYUSDT\n",
      "                    t\n",
      "0 2023-11-15 22:00:00\n"
     ]
    },
    {
     "name": "stderr",
     "output_type": "stream",
     "text": [
      "100%|█████████▉| 8672400001/8689138000 [00:01<00:00, 7943999070.03it/s]\n"
     ]
    },
    {
     "name": "stdout",
     "output_type": "stream",
     "text": [
      "done\n",
      "C98USDT\n",
      "                    t\n",
      "0 2023-11-15 22:00:00\n"
     ]
    },
    {
     "name": "stderr",
     "output_type": "stream",
     "text": [
      "100%|█████████▉| 8672400001/8689139000 [00:01<00:00, 6566469501.85it/s]\n"
     ]
    },
    {
     "name": "stdout",
     "output_type": "stream",
     "text": [
      "done\n",
      "MASKUSDT\n",
      "                    t\n",
      "0 2023-11-15 22:00:00\n"
     ]
    },
    {
     "name": "stderr",
     "output_type": "stream",
     "text": [
      "100%|█████████▉| 8672400001/8689141000 [00:01<00:00, 6809204517.68it/s]\n"
     ]
    },
    {
     "name": "stdout",
     "output_type": "stream",
     "text": [
      "done\n",
      "ATAUSDT\n",
      "                    t\n",
      "0 2023-11-15 22:00:00\n"
     ]
    },
    {
     "name": "stderr",
     "output_type": "stream",
     "text": [
      "100%|█████████▉| 8672400001/8689142000 [00:01<00:00, 7133462716.77it/s]\n"
     ]
    },
    {
     "name": "stdout",
     "output_type": "stream",
     "text": [
      "done\n",
      "DYDXUSDT\n",
      "                    t\n",
      "0 2023-11-15 22:00:00\n"
     ]
    },
    {
     "name": "stderr",
     "output_type": "stream",
     "text": [
      "100%|█████████▉| 8672400001/8689143000 [00:01<00:00, 4384260303.29it/s]\n"
     ]
    },
    {
     "name": "stdout",
     "output_type": "stream",
     "text": [
      "done\n",
      "1000XECUSDT\n",
      "                    t\n",
      "0 2023-11-15 22:00:00\n"
     ]
    },
    {
     "name": "stderr",
     "output_type": "stream",
     "text": [
      "100%|█████████▉| 8672400001/8689145000 [00:01<00:00, 7304089947.37it/s]\n"
     ]
    },
    {
     "name": "stdout",
     "output_type": "stream",
     "text": [
      "done\n",
      "GALAUSDT\n",
      "                    t\n",
      "0 2023-11-15 22:00:00\n"
     ]
    },
    {
     "name": "stderr",
     "output_type": "stream",
     "text": [
      "100%|█████████▉| 8672400001/8689147000 [00:01<00:00, 6844084836.50it/s]\n"
     ]
    },
    {
     "name": "stdout",
     "output_type": "stream",
     "text": [
      "done\n",
      "CELOUSDT\n",
      "                    t\n",
      "0 2023-11-15 22:00:00\n"
     ]
    },
    {
     "name": "stderr",
     "output_type": "stream",
     "text": [
      "100%|█████████▉| 8672400001/8689148000 [00:01<00:00, 7229740403.60it/s]\n"
     ]
    },
    {
     "name": "stdout",
     "output_type": "stream",
     "text": [
      "done\n",
      "ARUSDT\n",
      "                    t\n",
      "0 2023-11-15 22:00:00\n"
     ]
    },
    {
     "name": "stderr",
     "output_type": "stream",
     "text": [
      "100%|█████████▉| 8672400001/8689149000 [00:01<00:00, 6772084731.91it/s]\n"
     ]
    },
    {
     "name": "stdout",
     "output_type": "stream",
     "text": [
      "done\n",
      "KLAYUSDT\n",
      "                    t\n",
      "0 2023-11-15 22:00:00\n"
     ]
    },
    {
     "name": "stderr",
     "output_type": "stream",
     "text": [
      "100%|█████████▉| 8672400001/8689151000 [00:01<00:00, 6952542820.64it/s]\n"
     ]
    },
    {
     "name": "stdout",
     "output_type": "stream",
     "text": [
      "done\n",
      "ARPAUSDT\n",
      "                    t\n",
      "0 2023-11-15 22:00:00\n"
     ]
    },
    {
     "name": "stderr",
     "output_type": "stream",
     "text": [
      "100%|█████████▉| 8672400001/8689152000 [00:01<00:00, 4798772613.47it/s]\n"
     ]
    },
    {
     "name": "stdout",
     "output_type": "stream",
     "text": [
      "done\n",
      "CTSIUSDT\n",
      "                    t\n",
      "0 2023-11-15 22:00:00\n"
     ]
    },
    {
     "name": "stderr",
     "output_type": "stream",
     "text": [
      "100%|█████████▉| 8672400001/8689154000 [00:01<00:00, 6502219177.88it/s]\n"
     ]
    },
    {
     "name": "stdout",
     "output_type": "stream",
     "text": [
      "done\n",
      "LPTUSDT\n",
      "                    t\n",
      "0 2023-11-15 22:00:00\n"
     ]
    },
    {
     "name": "stderr",
     "output_type": "stream",
     "text": [
      "100%|█████████▉| 8672400001/8689155000 [00:01<00:00, 8095137336.75it/s]\n"
     ]
    },
    {
     "name": "stdout",
     "output_type": "stream",
     "text": [
      "done\n",
      "ENSUSDT\n",
      "                    t\n",
      "0 2023-11-15 22:00:00\n"
     ]
    },
    {
     "name": "stderr",
     "output_type": "stream",
     "text": [
      "100%|█████████▉| 8672400001/8689156000 [00:01<00:00, 6173195152.20it/s]\n"
     ]
    },
    {
     "name": "stdout",
     "output_type": "stream",
     "text": [
      "done\n",
      "PEOPLEUSDT\n",
      "                    t\n",
      "0 2023-11-15 22:00:00\n"
     ]
    },
    {
     "name": "stderr",
     "output_type": "stream",
     "text": [
      "100%|█████████▉| 8672400001/8689158000 [00:01<00:00, 6745091897.01it/s]\n"
     ]
    },
    {
     "name": "stdout",
     "output_type": "stream",
     "text": [
      "done\n",
      "ANTUSDT\n",
      "                    t\n",
      "0 2023-11-15 22:00:00\n"
     ]
    },
    {
     "name": "stderr",
     "output_type": "stream",
     "text": [
      "100%|█████████▉| 8672400001/8689159000 [00:01<00:00, 7642550735.70it/s]\n"
     ]
    },
    {
     "name": "stdout",
     "output_type": "stream",
     "text": [
      "done\n",
      "ROSEUSDT\n",
      "                    t\n",
      "0 2023-11-15 22:00:00\n"
     ]
    },
    {
     "name": "stderr",
     "output_type": "stream",
     "text": [
      "100%|█████████▉| 8672400001/8689161000 [00:01<00:00, 7986052884.66it/s]\n"
     ]
    },
    {
     "name": "stdout",
     "output_type": "stream",
     "text": [
      "done\n",
      "DUSKUSDT\n",
      "                    t\n",
      "0 2023-11-15 22:00:00\n"
     ]
    },
    {
     "name": "stderr",
     "output_type": "stream",
     "text": [
      "100%|█████████▉| 8672400001/8689162000 [00:01<00:00, 7109533114.84it/s]\n"
     ]
    },
    {
     "name": "stdout",
     "output_type": "stream",
     "text": [
      "done\n",
      "FLOWUSDT\n",
      "                    t\n",
      "0 2023-11-15 22:00:00\n"
     ]
    },
    {
     "name": "stderr",
     "output_type": "stream",
     "text": [
      "100%|█████████▉| 8672400001/8689163000 [00:01<00:00, 7960990698.15it/s]\n"
     ]
    },
    {
     "name": "stdout",
     "output_type": "stream",
     "text": [
      "done\n",
      "IMXUSDT\n",
      "                    t\n",
      "0 2023-11-15 22:00:00\n"
     ]
    },
    {
     "name": "stderr",
     "output_type": "stream",
     "text": [
      "100%|█████████▉| 8672400001/8689164000 [00:01<00:00, 7103325735.65it/s]\n"
     ]
    },
    {
     "name": "stdout",
     "output_type": "stream",
     "text": [
      "done\n",
      "API3USDT\n",
      "                    t\n",
      "0 2023-11-15 22:00:00\n"
     ]
    },
    {
     "name": "stderr",
     "output_type": "stream",
     "text": [
      "100%|█████████▉| 8672400001/8689165000 [00:01<00:00, 6946589192.75it/s]\n"
     ]
    },
    {
     "name": "stdout",
     "output_type": "stream",
     "text": [
      "done\n",
      "GMTUSDT\n",
      "                    t\n",
      "0 2023-11-15 22:00:00\n"
     ]
    },
    {
     "name": "stderr",
     "output_type": "stream",
     "text": [
      "100%|█████████▉| 8672400001/8689167000 [00:01<00:00, 7294713830.90it/s]\n"
     ]
    },
    {
     "name": "stdout",
     "output_type": "stream",
     "text": [
      "done\n",
      "APEUSDT\n",
      "                    t\n",
      "0 2023-11-15 22:00:00\n"
     ]
    },
    {
     "name": "stderr",
     "output_type": "stream",
     "text": [
      "100%|█████████▉| 8672400001/8689168000 [00:01<00:00, 7395317379.06it/s]\n"
     ]
    },
    {
     "name": "stdout",
     "output_type": "stream",
     "text": [
      "done\n",
      "WOOUSDT\n",
      "                    t\n",
      "0 2023-11-15 22:00:00\n"
     ]
    },
    {
     "name": "stderr",
     "output_type": "stream",
     "text": [
      "100%|█████████▉| 8672400001/8689169000 [00:01<00:00, 4633810720.50it/s]\n"
     ]
    },
    {
     "name": "stdout",
     "output_type": "stream",
     "text": [
      "done\n",
      "FTTUSDT\n",
      "                    t\n",
      "0 2023-11-15 22:00:00\n"
     ]
    },
    {
     "name": "stderr",
     "output_type": "stream",
     "text": [
      "100%|█████████▉| 8672400001/8689171000 [00:00<00:00, 9330772428.95it/s]\n"
     ]
    },
    {
     "name": "stdout",
     "output_type": "stream",
     "text": [
      "done\n",
      "JASMYUSDT\n",
      "                    t\n",
      "0 2023-11-15 22:00:00\n"
     ]
    },
    {
     "name": "stderr",
     "output_type": "stream",
     "text": [
      "100%|█████████▉| 8672400001/8689172000 [00:02<00:00, 3343409332.45it/s]\n"
     ]
    },
    {
     "name": "stdout",
     "output_type": "stream",
     "text": [
      "done\n",
      "DARUSDT\n",
      "                    t\n",
      "0 2023-11-15 22:00:00\n"
     ]
    },
    {
     "name": "stderr",
     "output_type": "stream",
     "text": [
      "100%|█████████▉| 8672400001/8689175000 [00:01<00:00, 6759659710.42it/s]\n"
     ]
    },
    {
     "name": "stdout",
     "output_type": "stream",
     "text": [
      "done\n",
      "GALUSDT\n",
      "                    t\n",
      "0 2023-11-15 22:00:00\n"
     ]
    },
    {
     "name": "stderr",
     "output_type": "stream",
     "text": [
      "100%|█████████▉| 8672400001/8689176000 [00:01<00:00, 6133400220.52it/s]\n"
     ]
    },
    {
     "name": "stdout",
     "output_type": "stream",
     "text": [
      "done\n",
      "OPUSDT\n",
      "                    t\n",
      "0 2023-11-15 22:00:00\n"
     ]
    },
    {
     "name": "stderr",
     "output_type": "stream",
     "text": [
      "100%|█████████▉| 8672400001/8689178000 [00:01<00:00, 5891519298.65it/s]\n"
     ]
    },
    {
     "name": "stdout",
     "output_type": "stream",
     "text": [
      "done\n",
      "INJUSDT\n",
      "                    t\n",
      "0 2023-11-15 22:00:00\n"
     ]
    },
    {
     "name": "stderr",
     "output_type": "stream",
     "text": [
      "100%|█████████▉| 8672400001/8689179000 [00:01<00:00, 6376675768.02it/s]\n"
     ]
    },
    {
     "name": "stdout",
     "output_type": "stream",
     "text": [
      "done\n",
      "STGUSDT\n",
      "                    t\n",
      "0 2023-11-15 22:00:00\n"
     ]
    },
    {
     "name": "stderr",
     "output_type": "stream",
     "text": [
      "100%|█████████▉| 8672400001/8689181000 [00:01<00:00, 7212173186.82it/s]\n"
     ]
    },
    {
     "name": "stdout",
     "output_type": "stream",
     "text": [
      "done\n",
      "FOOTBALLUSDT\n",
      "                    t\n",
      "0 2023-11-15 22:00:00\n"
     ]
    },
    {
     "name": "stderr",
     "output_type": "stream",
     "text": [
      "100%|█████████▉| 8672400001/8689182000 [00:01<00:00, 6222336152.06it/s]\n"
     ]
    },
    {
     "name": "stdout",
     "output_type": "stream",
     "text": [
      "done\n",
      "SPELLUSDT\n",
      "                    t\n",
      "0 2023-11-15 22:00:00\n"
     ]
    },
    {
     "name": "stderr",
     "output_type": "stream",
     "text": [
      "100%|█████████▉| 8672400001/8689184000 [00:01<00:00, 6035435411.12it/s]\n"
     ]
    },
    {
     "name": "stdout",
     "output_type": "stream",
     "text": [
      "done\n",
      "1000LUNCUSDT\n",
      "                    t\n",
      "0 2023-11-15 22:00:00\n"
     ]
    },
    {
     "name": "stderr",
     "output_type": "stream",
     "text": [
      "100%|█████████▉| 8672400001/8689185000 [00:01<00:00, 5369850805.24it/s]\n"
     ]
    },
    {
     "name": "stdout",
     "output_type": "stream",
     "text": [
      "done\n",
      "LUNA2USDT\n",
      "                    t\n",
      "0 2023-11-15 22:00:00\n"
     ]
    },
    {
     "name": "stderr",
     "output_type": "stream",
     "text": [
      "100%|█████████▉| 8672400001/8689187000 [00:01<00:00, 6456448546.63it/s]\n"
     ]
    },
    {
     "name": "stdout",
     "output_type": "stream",
     "text": [
      "done\n",
      "LDOUSDT\n",
      "                    t\n",
      "0 2023-11-15 22:00:00\n"
     ]
    },
    {
     "name": "stderr",
     "output_type": "stream",
     "text": [
      "100%|█████████▉| 8672400001/8689188000 [00:01<00:00, 6488160054.77it/s]\n"
     ]
    },
    {
     "name": "stdout",
     "output_type": "stream",
     "text": [
      "done\n",
      "CVXUSDT\n",
      "                    t\n",
      "0 2023-11-15 22:00:00\n"
     ]
    },
    {
     "name": "stderr",
     "output_type": "stream",
     "text": [
      "100%|█████████▉| 8672400001/8689190000 [00:01<00:00, 7576155243.87it/s]\n"
     ]
    },
    {
     "name": "stdout",
     "output_type": "stream",
     "text": [
      "done\n",
      "ICPUSDT\n",
      "                    t\n",
      "0 2023-11-15 22:00:00\n"
     ]
    },
    {
     "name": "stderr",
     "output_type": "stream",
     "text": [
      "100%|█████████▉| 8672400001/8689191000 [00:01<00:00, 7705930644.92it/s]\n"
     ]
    },
    {
     "name": "stdout",
     "output_type": "stream",
     "text": [
      "done\n",
      "APTUSDT\n",
      "                    t\n",
      "0 2023-11-15 22:00:00\n"
     ]
    },
    {
     "name": "stderr",
     "output_type": "stream",
     "text": [
      "100%|█████████▉| 8672400001/8689192000 [00:01<00:00, 6392026268.74it/s]\n"
     ]
    },
    {
     "name": "stdout",
     "output_type": "stream",
     "text": [
      "done\n",
      "QNTUSDT\n",
      "                    t\n",
      "0 2023-11-15 22:00:00\n"
     ]
    },
    {
     "name": "stderr",
     "output_type": "stream",
     "text": [
      "100%|█████████▉| 8672400001/8689193000 [00:01<00:00, 7189954022.20it/s]\n"
     ]
    },
    {
     "name": "stdout",
     "output_type": "stream",
     "text": [
      "done\n",
      "BLUEBIRDUSDT\n",
      "                    t\n",
      "0 2023-11-15 23:00:00\n"
     ]
    },
    {
     "name": "stderr",
     "output_type": "stream",
     "text": [
      "100%|█████████▉| 8668800001/8685595000 [00:02<00:00, 4004758460.99it/s]\n"
     ]
    },
    {
     "name": "stdout",
     "output_type": "stream",
     "text": [
      "done\n",
      "FETUSDT\n",
      "                    t\n",
      "0 2023-11-15 23:00:00\n"
     ]
    },
    {
     "name": "stderr",
     "output_type": "stream",
     "text": [
      "100%|█████████▉| 8668800001/8685597000 [00:01<00:00, 7094537459.41it/s]\n"
     ]
    },
    {
     "name": "stdout",
     "output_type": "stream",
     "text": [
      "done\n",
      "FXSUSDT\n",
      "                    t\n",
      "0 2023-11-15 23:00:00\n"
     ]
    },
    {
     "name": "stderr",
     "output_type": "stream",
     "text": [
      "100%|█████████▉| 8668800001/8685598000 [00:01<00:00, 7197931841.65it/s]\n"
     ]
    },
    {
     "name": "stdout",
     "output_type": "stream",
     "text": [
      "done\n",
      "HOOKUSDT\n",
      "                    t\n",
      "0 2023-11-15 23:00:00\n"
     ]
    },
    {
     "name": "stderr",
     "output_type": "stream",
     "text": [
      "100%|█████████▉| 8668800001/8685600000 [00:01<00:00, 6243055897.52it/s]\n"
     ]
    },
    {
     "name": "stdout",
     "output_type": "stream",
     "text": [
      "done\n",
      "MAGICUSDT\n",
      "                    t\n",
      "0 2023-11-15 23:00:00\n"
     ]
    },
    {
     "name": "stderr",
     "output_type": "stream",
     "text": [
      "100%|█████████▉| 8668800001/8685601000 [00:01<00:00, 6972416359.17it/s]\n"
     ]
    },
    {
     "name": "stdout",
     "output_type": "stream",
     "text": [
      "done\n",
      "TUSDT\n",
      "                    t\n",
      "0 2023-11-15 23:00:00\n"
     ]
    },
    {
     "name": "stderr",
     "output_type": "stream",
     "text": [
      "100%|█████████▉| 8668800001/8685602000 [00:01<00:00, 7354262177.48it/s]\n"
     ]
    },
    {
     "name": "stdout",
     "output_type": "stream",
     "text": [
      "done\n",
      "RNDRUSDT\n",
      "                    t\n",
      "0 2023-11-15 23:00:00\n"
     ]
    },
    {
     "name": "stderr",
     "output_type": "stream",
     "text": [
      "100%|█████████▉| 8668800001/8685604000 [00:01<00:00, 6376603160.52it/s]\n"
     ]
    },
    {
     "name": "stdout",
     "output_type": "stream",
     "text": [
      "done\n",
      "HIGHUSDT\n",
      "                    t\n",
      "0 2023-11-15 23:00:00\n"
     ]
    },
    {
     "name": "stderr",
     "output_type": "stream",
     "text": [
      "100%|█████████▉| 8668800001/8685605000 [00:01<00:00, 6882496587.94it/s]\n"
     ]
    },
    {
     "name": "stdout",
     "output_type": "stream",
     "text": [
      "done\n",
      "MINAUSDT\n",
      "                    t\n",
      "0 2023-11-15 23:00:00\n"
     ]
    },
    {
     "name": "stderr",
     "output_type": "stream",
     "text": [
      "100%|█████████▉| 8668800001/8685606000 [00:01<00:00, 7608001491.36it/s]\n"
     ]
    },
    {
     "name": "stdout",
     "output_type": "stream",
     "text": [
      "done\n",
      "ASTRUSDT\n",
      "                    t\n",
      "0 2023-11-15 23:00:00\n"
     ]
    },
    {
     "name": "stderr",
     "output_type": "stream",
     "text": [
      "100%|█████████▉| 8668800001/8685608000 [00:01<00:00, 6228185900.02it/s]\n"
     ]
    },
    {
     "name": "stdout",
     "output_type": "stream",
     "text": [
      "done\n",
      "AGIXUSDT\n",
      "                    t\n",
      "0 2023-11-15 23:00:00\n"
     ]
    },
    {
     "name": "stderr",
     "output_type": "stream",
     "text": [
      "100%|█████████▉| 8668800001/8685609000 [00:01<00:00, 7658504000.52it/s]\n"
     ]
    },
    {
     "name": "stdout",
     "output_type": "stream",
     "text": [
      "done\n",
      "PHBUSDT\n",
      "                    t\n",
      "0 2023-11-15 23:00:00\n"
     ]
    },
    {
     "name": "stderr",
     "output_type": "stream",
     "text": [
      "100%|█████████▉| 8668800001/8685610000 [00:01<00:00, 6863783577.55it/s]\n"
     ]
    },
    {
     "name": "stdout",
     "output_type": "stream",
     "text": [
      "done\n",
      "GMXUSDT\n",
      "                    t\n",
      "0 2023-11-15 23:00:00\n"
     ]
    },
    {
     "name": "stderr",
     "output_type": "stream",
     "text": [
      "100%|█████████▉| 8668800001/8685612000 [00:01<00:00, 7277349773.22it/s]\n"
     ]
    },
    {
     "name": "stdout",
     "output_type": "stream",
     "text": [
      "done\n",
      "CFXUSDT\n",
      "                    t\n",
      "0 2023-11-15 23:00:00\n"
     ]
    },
    {
     "name": "stderr",
     "output_type": "stream",
     "text": [
      "100%|█████████▉| 8668800001/8685613000 [00:01<00:00, 7250379975.20it/s]\n"
     ]
    },
    {
     "name": "stdout",
     "output_type": "stream",
     "text": [
      "done\n",
      "STXUSDT\n",
      "                    t\n",
      "0 2023-11-15 23:00:00\n"
     ]
    },
    {
     "name": "stderr",
     "output_type": "stream",
     "text": [
      "100%|█████████▉| 8668800001/8685614000 [00:01<00:00, 7043228508.78it/s]\n"
     ]
    },
    {
     "name": "stdout",
     "output_type": "stream",
     "text": [
      "done\n",
      "COCOSUSDT\n",
      "                    t\n",
      "0 2023-11-15 23:00:00\n"
     ]
    },
    {
     "name": "stderr",
     "output_type": "stream",
     "text": [
      "100%|█████████▉| 8668800001/8685615000 [00:00<00:00, 9276605876.32it/s]\n"
     ]
    },
    {
     "name": "stdout",
     "output_type": "stream",
     "text": [
      "done\n",
      "BNXUSDT\n",
      "                    t\n",
      "0 2023-11-15 23:00:00\n"
     ]
    },
    {
     "name": "stderr",
     "output_type": "stream",
     "text": [
      "100%|█████████▉| 8668800001/8685616000 [00:01<00:00, 6719718278.56it/s]\n"
     ]
    },
    {
     "name": "stdout",
     "output_type": "stream",
     "text": [
      "done\n",
      "ACHUSDT\n",
      "                    t\n",
      "0 2023-11-15 23:00:00\n"
     ]
    },
    {
     "name": "stderr",
     "output_type": "stream",
     "text": [
      "100%|█████████▉| 8668800001/8685618000 [00:01<00:00, 6832686798.78it/s]\n"
     ]
    },
    {
     "name": "stdout",
     "output_type": "stream",
     "text": [
      "done\n",
      "SSVUSDT\n",
      "                    t\n",
      "0 2023-11-15 23:00:00\n"
     ]
    },
    {
     "name": "stderr",
     "output_type": "stream",
     "text": [
      "100%|█████████▉| 8668800001/8685619000 [00:01<00:00, 7258350646.52it/s]\n"
     ]
    },
    {
     "name": "stdout",
     "output_type": "stream",
     "text": [
      "done\n",
      "CKBUSDT\n",
      "                    t\n",
      "0 2023-11-15 23:00:00\n"
     ]
    },
    {
     "name": "stderr",
     "output_type": "stream",
     "text": [
      "100%|█████████▉| 8668800001/8685620000 [00:01<00:00, 6765337503.12it/s]\n"
     ]
    },
    {
     "name": "stdout",
     "output_type": "stream",
     "text": [
      "done\n",
      "PERPUSDT\n",
      "                    t\n",
      "0 2023-11-15 23:00:00\n"
     ]
    },
    {
     "name": "stderr",
     "output_type": "stream",
     "text": [
      "100%|█████████▉| 8668800001/8685622000 [00:01<00:00, 7268897004.06it/s]\n"
     ]
    },
    {
     "name": "stdout",
     "output_type": "stream",
     "text": [
      "done\n",
      "TRUUSDT\n",
      "                    t\n",
      "0 2023-11-15 23:00:00\n"
     ]
    },
    {
     "name": "stderr",
     "output_type": "stream",
     "text": [
      "100%|█████████▉| 8668800001/8685623000 [00:01<00:00, 6726446118.23it/s]\n"
     ]
    },
    {
     "name": "stdout",
     "output_type": "stream",
     "text": [
      "done\n",
      "LQTYUSDT\n",
      "                    t\n",
      "0 2023-11-15 23:00:00\n"
     ]
    },
    {
     "name": "stderr",
     "output_type": "stream",
     "text": [
      "100%|█████████▉| 8668800001/8685624000 [00:01<00:00, 5736360489.81it/s]\n"
     ]
    },
    {
     "name": "stdout",
     "output_type": "stream",
     "text": [
      "done\n",
      "USDCUSDT\n",
      "                    t\n",
      "0 2023-11-15 23:00:00\n"
     ]
    },
    {
     "name": "stderr",
     "output_type": "stream",
     "text": [
      "100%|█████████▉| 8668800001/8685626000 [00:01<00:00, 5350645310.45it/s]\n"
     ]
    },
    {
     "name": "stdout",
     "output_type": "stream",
     "text": [
      "done\n",
      "IDUSDT\n",
      "                    t\n",
      "0 2023-11-15 23:00:00\n"
     ]
    },
    {
     "name": "stderr",
     "output_type": "stream",
     "text": [
      "100%|█████████▉| 8668800001/8685628000 [00:01<00:00, 5954021281.68it/s]\n"
     ]
    },
    {
     "name": "stdout",
     "output_type": "stream",
     "text": [
      "done\n",
      "ARBUSDT\n",
      "                    t\n",
      "0 2023-11-15 23:00:00\n"
     ]
    },
    {
     "name": "stderr",
     "output_type": "stream",
     "text": [
      "100%|█████████▉| 8668800001/8685629000 [00:01<00:00, 6189944003.75it/s]\n"
     ]
    },
    {
     "name": "stdout",
     "output_type": "stream",
     "text": [
      "done\n",
      "JOEUSDT\n",
      "                    t\n",
      "0 2023-11-15 23:00:00\n"
     ]
    },
    {
     "name": "stderr",
     "output_type": "stream",
     "text": [
      "100%|█████████▉| 8668800001/8685631000 [00:01<00:00, 7120358254.36it/s]\n"
     ]
    },
    {
     "name": "stdout",
     "output_type": "stream",
     "text": [
      "done\n",
      "TLMUSDT\n",
      "                    t\n",
      "0 2023-11-15 23:00:00\n"
     ]
    },
    {
     "name": "stderr",
     "output_type": "stream",
     "text": [
      "100%|█████████▉| 8668800001/8685632000 [00:01<00:00, 6828509942.19it/s]\n"
     ]
    },
    {
     "name": "stdout",
     "output_type": "stream",
     "text": [
      "done\n",
      "AMBUSDT\n",
      "                    t\n",
      "0 2023-11-15 23:00:00\n"
     ]
    },
    {
     "name": "stderr",
     "output_type": "stream",
     "text": [
      "100%|█████████▉| 8668800001/8685633000 [00:01<00:00, 4575405143.11it/s]\n"
     ]
    },
    {
     "name": "stdout",
     "output_type": "stream",
     "text": [
      "done\n",
      "LEVERUSDT\n",
      "                    t\n",
      "0 2023-11-15 23:00:00\n"
     ]
    },
    {
     "name": "stderr",
     "output_type": "stream",
     "text": [
      "100%|█████████▉| 8668800001/8685635000 [00:01<00:00, 7593950108.55it/s]\n"
     ]
    },
    {
     "name": "stdout",
     "output_type": "stream",
     "text": [
      "done\n",
      "RDNTUSDT\n",
      "                    t\n",
      "0 2023-11-15 23:00:00\n"
     ]
    },
    {
     "name": "stderr",
     "output_type": "stream",
     "text": [
      "100%|█████████▉| 8668800001/8685636000 [00:01<00:00, 7059237216.86it/s]\n"
     ]
    },
    {
     "name": "stdout",
     "output_type": "stream",
     "text": [
      "done\n",
      "HFTUSDT\n",
      "                    t\n",
      "0 2023-11-15 23:00:00\n"
     ]
    },
    {
     "name": "stderr",
     "output_type": "stream",
     "text": [
      "100%|█████████▉| 8668800001/8685638000 [00:01<00:00, 6999954280.19it/s]\n"
     ]
    },
    {
     "name": "stdout",
     "output_type": "stream",
     "text": [
      "done\n",
      "XVSUSDT\n",
      "                    t\n",
      "0 2023-11-15 23:00:00\n"
     ]
    },
    {
     "name": "stderr",
     "output_type": "stream",
     "text": [
      "100%|█████████▉| 8668800001/8685639000 [00:01<00:00, 7643144008.37it/s]\n"
     ]
    },
    {
     "name": "stdout",
     "output_type": "stream",
     "text": [
      "done\n",
      "BLURUSDT\n",
      "                    t\n",
      "0 2023-11-15 23:00:00\n"
     ]
    },
    {
     "name": "stderr",
     "output_type": "stream",
     "text": [
      "100%|█████████▉| 8668800001/8685640000 [00:01<00:00, 6944407151.56it/s]\n"
     ]
    },
    {
     "name": "stdout",
     "output_type": "stream",
     "text": [
      "done\n",
      "EDUUSDT\n",
      "                    t\n",
      "0 2023-11-15 23:00:00\n"
     ]
    },
    {
     "name": "stderr",
     "output_type": "stream",
     "text": [
      "100%|█████████▉| 8668800001/8685642000 [00:01<00:00, 6249969062.54it/s]\n"
     ]
    },
    {
     "name": "stdout",
     "output_type": "stream",
     "text": [
      "done\n",
      "IDEXUSDT\n",
      "                    t\n",
      "0 2023-11-15 23:00:00\n"
     ]
    },
    {
     "name": "stderr",
     "output_type": "stream",
     "text": [
      "100%|█████████▉| 8668800001/8685643000 [00:01<00:00, 6975851595.95it/s]\n"
     ]
    },
    {
     "name": "stdout",
     "output_type": "stream",
     "text": [
      "done\n",
      "SUIUSDT\n",
      "                    t\n",
      "0 2023-11-15 23:00:00\n"
     ]
    },
    {
     "name": "stderr",
     "output_type": "stream",
     "text": [
      "100%|█████████▉| 8668800001/8685644000 [00:01<00:00, 6312413273.96it/s]\n"
     ]
    },
    {
     "name": "stdout",
     "output_type": "stream",
     "text": [
      "done\n",
      "1000PEPEUSDT\n",
      "                    t\n",
      "0 2023-11-15 23:00:00\n"
     ]
    },
    {
     "name": "stderr",
     "output_type": "stream",
     "text": [
      "100%|█████████▉| 8668800001/8685646000 [00:01<00:00, 6740540799.17it/s]\n"
     ]
    },
    {
     "name": "stdout",
     "output_type": "stream",
     "text": [
      "done\n",
      "1000FLOKIUSDT\n",
      "                    t\n",
      "0 2023-11-15 23:00:00\n"
     ]
    },
    {
     "name": "stderr",
     "output_type": "stream",
     "text": [
      "100%|█████████▉| 8668800001/8685647000 [00:01<00:00, 7436128530.21it/s]\n"
     ]
    },
    {
     "name": "stdout",
     "output_type": "stream",
     "text": [
      "done\n",
      "UMAUSDT\n",
      "                    t\n",
      "0 2023-11-15 23:00:00\n"
     ]
    },
    {
     "name": "stderr",
     "output_type": "stream",
     "text": [
      "100%|█████████▉| 8668800001/8685648000 [00:01<00:00, 6902822580.50it/s]\n"
     ]
    },
    {
     "name": "stdout",
     "output_type": "stream",
     "text": [
      "done\n",
      "RADUSDT\n",
      "                    t\n",
      "0 2023-11-15 23:00:00\n"
     ]
    },
    {
     "name": "stderr",
     "output_type": "stream",
     "text": [
      "100%|█████████▉| 8668800001/8685650000 [00:01<00:00, 6574225507.09it/s]\n"
     ]
    },
    {
     "name": "stdout",
     "output_type": "stream",
     "text": [
      "done\n",
      "KEYUSDT\n",
      "                    t\n",
      "0 2023-11-15 23:00:00\n"
     ]
    },
    {
     "name": "stderr",
     "output_type": "stream",
     "text": [
      "100%|█████████▉| 8668800001/8685651000 [00:01<00:00, 6399594215.90it/s]\n"
     ]
    },
    {
     "name": "stdout",
     "output_type": "stream",
     "text": [
      "done\n",
      "COMBOUSDT\n",
      "                    t\n",
      "0 2023-11-15 23:00:00\n"
     ]
    },
    {
     "name": "stderr",
     "output_type": "stream",
     "text": [
      "100%|█████████▉| 8668800001/8685653000 [00:02<00:00, 4131805485.57it/s]\n"
     ]
    },
    {
     "name": "stdout",
     "output_type": "stream",
     "text": [
      "done\n",
      "NMRUSDT\n",
      "                    t\n",
      "0 2023-11-15 23:00:00\n"
     ]
    },
    {
     "name": "stderr",
     "output_type": "stream",
     "text": [
      "100%|█████████▉| 8668800001/8685655000 [00:01<00:00, 7276535648.71it/s]\n"
     ]
    },
    {
     "name": "stdout",
     "output_type": "stream",
     "text": [
      "done\n",
      "MAVUSDT\n",
      "                    t\n",
      "0 2023-11-15 23:00:00\n"
     ]
    },
    {
     "name": "stderr",
     "output_type": "stream",
     "text": [
      "100%|█████████▉| 8668800001/8685656000 [00:01<00:00, 5870691611.16it/s]\n"
     ]
    },
    {
     "name": "stdout",
     "output_type": "stream",
     "text": [
      "done\n",
      "MDTUSDT\n",
      "                    t\n",
      "0 2023-11-15 23:00:00\n"
     ]
    },
    {
     "name": "stderr",
     "output_type": "stream",
     "text": [
      "100%|█████████▉| 8668800001/8685658000 [00:01<00:00, 7295464805.18it/s]\n"
     ]
    },
    {
     "name": "stdout",
     "output_type": "stream",
     "text": [
      "done\n",
      "XVGUSDT\n",
      "                    t\n",
      "0 2023-11-15 23:00:00\n"
     ]
    },
    {
     "name": "stderr",
     "output_type": "stream",
     "text": [
      "100%|█████████▉| 8668800001/8685659000 [00:01<00:00, 7296218749.29it/s]\n"
     ]
    },
    {
     "name": "stdout",
     "output_type": "stream",
     "text": [
      "done\n",
      "WLDUSDT\n",
      "                    t\n",
      "0 2023-11-15 23:00:00\n"
     ]
    },
    {
     "name": "stderr",
     "output_type": "stream",
     "text": [
      "100%|█████████▉| 8668800001/8685660000 [00:01<00:00, 7285506888.43it/s]\n"
     ]
    },
    {
     "name": "stdout",
     "output_type": "stream",
     "text": [
      "done\n",
      "PENDLEUSDT\n",
      "                    t\n",
      "0 2023-11-15 23:00:00\n"
     ]
    },
    {
     "name": "stderr",
     "output_type": "stream",
     "text": [
      "100%|█████████▉| 8668800001/8685661000 [00:01<00:00, 6888687780.74it/s]\n"
     ]
    },
    {
     "name": "stdout",
     "output_type": "stream",
     "text": [
      "done\n",
      "ARKMUSDT\n",
      "                    t\n",
      "0 2023-11-15 23:00:00\n"
     ]
    },
    {
     "name": "stderr",
     "output_type": "stream",
     "text": [
      "100%|█████████▉| 8668800001/8685663000 [00:01<00:00, 7213803545.28it/s]\n"
     ]
    },
    {
     "name": "stdout",
     "output_type": "stream",
     "text": [
      "done\n",
      "AGLDUSDT\n",
      "                    t\n",
      "0 2023-11-15 23:00:00\n"
     ]
    },
    {
     "name": "stderr",
     "output_type": "stream",
     "text": [
      "100%|█████████▉| 8668800001/8685664000 [00:01<00:00, 5904706511.02it/s]\n"
     ]
    },
    {
     "name": "stdout",
     "output_type": "stream",
     "text": [
      "done\n",
      "YGGUSDT\n",
      "                    t\n",
      "0 2023-11-15 23:00:00\n"
     ]
    },
    {
     "name": "stderr",
     "output_type": "stream",
     "text": [
      "100%|█████████▉| 8668800001/8685666000 [00:01<00:00, 6570598424.56it/s]\n"
     ]
    },
    {
     "name": "stdout",
     "output_type": "stream",
     "text": [
      "done\n",
      "DODOXUSDT\n",
      "                    t\n",
      "0 2023-11-15 23:00:00\n"
     ]
    },
    {
     "name": "stderr",
     "output_type": "stream",
     "text": [
      "100%|█████████▉| 8668800001/8685667000 [00:01<00:00, 7450211997.31it/s]\n"
     ]
    },
    {
     "name": "stdout",
     "output_type": "stream",
     "text": [
      "done\n",
      "BNTUSDT\n",
      "                    t\n",
      "0 2023-11-15 23:00:00\n"
     ]
    },
    {
     "name": "stderr",
     "output_type": "stream",
     "text": [
      "100%|█████████▉| 8668800001/8685668000 [00:01<00:00, 7504260413.08it/s]\n"
     ]
    },
    {
     "name": "stdout",
     "output_type": "stream",
     "text": [
      "done\n",
      "OXTUSDT\n",
      "                    t\n",
      "0 2023-11-15 23:00:00\n"
     ]
    },
    {
     "name": "stderr",
     "output_type": "stream",
     "text": [
      "100%|█████████▉| 8668800001/8685670000 [00:01<00:00, 7562696119.52it/s]\n"
     ]
    },
    {
     "name": "stdout",
     "output_type": "stream",
     "text": [
      "done\n",
      "SEIUSDT\n",
      "                    t\n",
      "0 2023-11-15 23:00:00\n"
     ]
    },
    {
     "name": "stderr",
     "output_type": "stream",
     "text": [
      "100%|█████████▉| 8668800001/8685671000 [00:01<00:00, 6155125592.31it/s]\n"
     ]
    },
    {
     "name": "stdout",
     "output_type": "stream",
     "text": [
      "done\n",
      "CYBERUSDT\n",
      "                    t\n",
      "0 2023-11-15 23:00:00\n"
     ]
    },
    {
     "name": "stderr",
     "output_type": "stream",
     "text": [
      "100%|█████████▉| 8668800001/8685672000 [00:01<00:00, 5187221102.62it/s]\n"
     ]
    },
    {
     "name": "stdout",
     "output_type": "stream",
     "text": [
      "done\n",
      "HIFIUSDT\n",
      "                    t\n",
      "0 2023-11-15 23:00:00\n"
     ]
    },
    {
     "name": "stderr",
     "output_type": "stream",
     "text": [
      "100%|█████████▉| 8668800001/8685674000 [00:01<00:00, 6263583530.89it/s]\n"
     ]
    },
    {
     "name": "stdout",
     "output_type": "stream",
     "text": [
      "done\n",
      "ARKUSDT\n",
      "                    t\n",
      "0 2023-11-15 23:00:00\n"
     ]
    },
    {
     "name": "stderr",
     "output_type": "stream",
     "text": [
      "100%|█████████▉| 8668800001/8685675000 [00:01<00:00, 6232654947.69it/s]\n"
     ]
    },
    {
     "name": "stdout",
     "output_type": "stream",
     "text": [
      "done\n",
      "FRONTUSDT\n",
      "                    t\n",
      "0 2023-11-15 23:00:00\n"
     ]
    },
    {
     "name": "stderr",
     "output_type": "stream",
     "text": [
      "100%|█████████▉| 8668800001/8685677000 [00:01<00:00, 6662347668.86it/s]\n"
     ]
    },
    {
     "name": "stdout",
     "output_type": "stream",
     "text": [
      "done\n",
      "GLMRUSDT\n",
      "                    t\n",
      "0 2023-11-15 23:00:00\n"
     ]
    },
    {
     "name": "stderr",
     "output_type": "stream",
     "text": [
      "100%|█████████▉| 8668800001/8685678000 [00:01<00:00, 6043338434.23it/s]\n"
     ]
    },
    {
     "name": "stdout",
     "output_type": "stream",
     "text": [
      "done\n",
      "BICOUSDT\n",
      "                    t\n",
      "0 2023-11-15 23:00:00\n"
     ]
    },
    {
     "name": "stderr",
     "output_type": "stream",
     "text": [
      "100%|█████████▉| 8668800001/8685680000 [00:01<00:00, 7277831925.67it/s]\n"
     ]
    },
    {
     "name": "stdout",
     "output_type": "stream",
     "text": [
      "done\n",
      "STRAXUSDT\n",
      "                    t\n",
      "0 2023-11-15 23:00:00\n"
     ]
    },
    {
     "name": "stderr",
     "output_type": "stream",
     "text": [
      "100%|█████████▉| 8668800001/8685681000 [00:01<00:00, 7534641933.46it/s]\n"
     ]
    },
    {
     "name": "stdout",
     "output_type": "stream",
     "text": [
      "done\n",
      "LOOMUSDT\n",
      "                    t\n",
      "0 2023-11-15 23:00:00\n"
     ]
    },
    {
     "name": "stderr",
     "output_type": "stream",
     "text": [
      "100%|█████████▉| 8668800001/8685682000 [00:01<00:00, 7422839154.13it/s]\n"
     ]
    },
    {
     "name": "stdout",
     "output_type": "stream",
     "text": [
      "done\n",
      "BIGTIMEUSDT\n",
      "                    t\n",
      "0 2023-11-15 23:00:00\n"
     ]
    },
    {
     "name": "stderr",
     "output_type": "stream",
     "text": [
      "100%|█████████▉| 8668800001/8685684000 [00:01<00:00, 4827093864.87it/s]\n"
     ]
    },
    {
     "name": "stdout",
     "output_type": "stream",
     "text": [
      "done\n",
      "BONDUSDT\n",
      "                    t\n",
      "0 2023-11-15 23:00:00\n"
     ]
    },
    {
     "name": "stderr",
     "output_type": "stream",
     "text": [
      "100%|█████████▉| 8668800001/8685685000 [00:01<00:00, 7364076447.81it/s]\n"
     ]
    },
    {
     "name": "stdout",
     "output_type": "stream",
     "text": [
      "done\n",
      "ORBSUSDT\n",
      "                    t\n",
      "0 2023-11-15 23:00:00\n"
     ]
    },
    {
     "name": "stderr",
     "output_type": "stream",
     "text": [
      "100%|█████████▉| 8668800001/8685687000 [00:01<00:00, 7075244516.99it/s]\n"
     ]
    },
    {
     "name": "stdout",
     "output_type": "stream",
     "text": [
      "done\n",
      "STPTUSDT\n",
      "                    t\n",
      "0 2023-11-15 23:00:00\n"
     ]
    },
    {
     "name": "stderr",
     "output_type": "stream",
     "text": [
      "100%|█████████▉| 8668800001/8685688000 [00:01<00:00, 6942532227.85it/s]\n"
     ]
    },
    {
     "name": "stdout",
     "output_type": "stream",
     "text": [
      "done\n",
      "WAXPUSDT\n",
      "                    t\n",
      "0 2023-11-15 23:00:00\n"
     ]
    },
    {
     "name": "stderr",
     "output_type": "stream",
     "text": [
      "100%|█████████▉| 8668800001/8685689000 [00:01<00:00, 7591007542.32it/s]\n"
     ]
    },
    {
     "name": "stdout",
     "output_type": "stream",
     "text": [
      "done\n",
      "BSVUSDT\n",
      "                    t\n",
      "0 2023-11-15 23:00:00\n"
     ]
    },
    {
     "name": "stderr",
     "output_type": "stream",
     "text": [
      "100%|█████████▉| 8668800001/8685691000 [00:01<00:00, 7512243696.88it/s]\n"
     ]
    },
    {
     "name": "stdout",
     "output_type": "stream",
     "text": [
      "done\n",
      "RIFUSDT\n",
      "                    t\n",
      "0 2023-11-15 23:00:00\n"
     ]
    },
    {
     "name": "stderr",
     "output_type": "stream",
     "text": [
      "100%|█████████▉| 8668800001/8685692000 [00:01<00:00, 5871211102.88it/s]\n"
     ]
    },
    {
     "name": "stdout",
     "output_type": "stream",
     "text": [
      "done\n",
      "POLYXUSDT\n",
      "                    t\n",
      "0 2023-11-15 23:00:00\n"
     ]
    },
    {
     "name": "stderr",
     "output_type": "stream",
     "text": [
      "100%|█████████▉| 8668800001/8685693000 [00:01<00:00, 5714255127.35it/s]\n"
     ]
    },
    {
     "name": "stdout",
     "output_type": "stream",
     "text": [
      "done\n",
      "GASUSDT\n",
      "                    t\n",
      "0 2023-11-15 23:00:00\n"
     ]
    },
    {
     "name": "stderr",
     "output_type": "stream",
     "text": [
      "100%|█████████▉| 8668800001/8685695000 [00:01<00:00, 4885741080.35it/s]\n"
     ]
    },
    {
     "name": "stdout",
     "output_type": "stream",
     "text": [
      "done\n",
      "POWRUSDT\n",
      "                    t\n",
      "0 2023-11-15 23:00:00\n"
     ]
    },
    {
     "name": "stderr",
     "output_type": "stream",
     "text": [
      "100%|█████████▉| 8668800001/8685697000 [00:01<00:00, 5440113776.80it/s]\n"
     ]
    },
    {
     "name": "stdout",
     "output_type": "stream",
     "text": [
      "done\n",
      "SLPUSDT\n",
      "                    t\n",
      "0 2023-11-15 23:00:00\n"
     ]
    },
    {
     "name": "stderr",
     "output_type": "stream",
     "text": [
      "100%|█████████▉| 8668800001/8685698000 [00:01<00:00, 6369008866.69it/s]\n"
     ]
    },
    {
     "name": "stdout",
     "output_type": "stream",
     "text": [
      "done\n",
      "TIAUSDT\n",
      "                    t\n",
      "0 2023-11-15 23:00:00\n"
     ]
    },
    {
     "name": "stderr",
     "output_type": "stream",
     "text": [
      "100%|█████████▉| 8668800001/8685700000 [00:01<00:00, 6795406304.81it/s]\n"
     ]
    },
    {
     "name": "stdout",
     "output_type": "stream",
     "text": [
      "done\n",
      "SNTUSDT\n",
      "                    t\n",
      "0 2023-11-15 23:00:00\n"
     ]
    },
    {
     "name": "stderr",
     "output_type": "stream",
     "text": [
      "100%|█████████▉| 8668800001/8685701000 [00:01<00:00, 4944175123.63it/s]\n"
     ]
    },
    {
     "name": "stdout",
     "output_type": "stream",
     "text": [
      "done\n",
      "CAKEUSDT\n",
      "                    t\n",
      "0 2023-11-15 23:00:00\n"
     ]
    },
    {
     "name": "stderr",
     "output_type": "stream",
     "text": [
      "100%|█████████▉| 8668800001/8685703000 [00:01<00:00, 6990701552.53it/s]\n"
     ]
    },
    {
     "name": "stdout",
     "output_type": "stream",
     "text": [
      "done\n",
      "MEMEUSDT\n",
      "                    t\n",
      "0 2023-11-15 23:00:00\n"
     ]
    },
    {
     "name": "stderr",
     "output_type": "stream",
     "text": [
      "100%|█████████▉| 8668800001/8685704000 [00:01<00:00, 6844289408.23it/s]\n"
     ]
    },
    {
     "name": "stdout",
     "output_type": "stream",
     "text": [
      "done\n",
      "TWTUSDT\n",
      "                    t\n",
      "0 2023-11-15 23:00:00\n"
     ]
    },
    {
     "name": "stderr",
     "output_type": "stream",
     "text": [
      "100%|█████████▉| 8668800001/8685706000 [00:01<00:00, 6145391304.07it/s]\n"
     ]
    },
    {
     "name": "stdout",
     "output_type": "stream",
     "text": [
      "done\n",
      "TOKENUSDT\n",
      "                    t\n",
      "0 2023-11-15 23:00:00\n"
     ]
    },
    {
     "name": "stderr",
     "output_type": "stream",
     "text": [
      "100%|█████████▉| 8668800001/8685707000 [00:01<00:00, 6759044279.39it/s]\n"
     ]
    },
    {
     "name": "stdout",
     "output_type": "stream",
     "text": [
      "done\n",
      "ORDIUSDT\n",
      "                    t\n",
      "0 2023-11-15 23:00:00\n"
     ]
    },
    {
     "name": "stderr",
     "output_type": "stream",
     "text": [
      "100%|█████████▉| 8668800001/8685709000 [00:01<00:00, 5733814918.24it/s]\n"
     ]
    },
    {
     "name": "stdout",
     "output_type": "stream",
     "text": [
      "done\n",
      "STEEMUSDT\n",
      "                    t\n",
      "0 2023-11-15 23:00:00\n"
     ]
    },
    {
     "name": "stderr",
     "output_type": "stream",
     "text": [
      "100%|█████████▉| 8668800001/8685710000 [00:01<00:00, 6883326562.77it/s]\n"
     ]
    },
    {
     "name": "stdout",
     "output_type": "stream",
     "text": [
      "done\n",
      "BADGERUSDT\n",
      "                    t\n",
      "0 2023-11-15 23:00:00\n"
     ]
    },
    {
     "name": "stderr",
     "output_type": "stream",
     "text": [
      "100%|█████████▉| 8668800001/8685711000 [00:01<00:00, 6286612028.66it/s]\n"
     ]
    },
    {
     "name": "stdout",
     "output_type": "stream",
     "text": [
      "done\n",
      "ILVUSDT\n",
      "                    t\n",
      "0 2023-11-15 23:00:00\n"
     ]
    },
    {
     "name": "stderr",
     "output_type": "stream",
     "text": [
      "100%|█████████▉| 8668800001/8685713000 [00:01<00:00, 6299950119.52it/s]\n"
     ]
    },
    {
     "name": "stdout",
     "output_type": "stream",
     "text": [
      "done\n",
      "NTRNUSDT\n",
      "                    t\n",
      "0 2023-11-15 23:00:00\n"
     ]
    },
    {
     "name": "stderr",
     "output_type": "stream",
     "text": [
      "100%|█████████▉| 8668800001/8685714000 [00:01<00:00, 6414928273.96it/s]\n"
     ]
    },
    {
     "name": "stdout",
     "output_type": "stream",
     "text": [
      "done\n",
      "MBLUSDT\n",
      "                    t\n",
      "0 2023-11-15 23:00:00\n"
     ]
    },
    {
     "name": "stderr",
     "output_type": "stream",
     "text": [
      "100%|█████████▉| 8668800001/8685716000 [00:01<00:00, 6660126598.70it/s]\n"
     ]
    },
    {
     "name": "stdout",
     "output_type": "stream",
     "text": [
      "done\n",
      "KASUSDT\n"
     ]
    },
    {
     "name": "stderr",
     "output_type": "stream",
     "text": [
      "100%|█████████▉| 193993200001/194010117000 [00:01<00:00, 168634765755.89it/s]\n"
     ]
    },
    {
     "name": "stdout",
     "output_type": "stream",
     "text": [
      "done\n",
      "BEAMXUSDT\n"
     ]
    },
    {
     "name": "stderr",
     "output_type": "stream",
     "text": [
      "100%|█████████▉| 193993200001/194010118000 [00:01<00:00, 153789915248.00it/s]\n"
     ]
    },
    {
     "name": "stdout",
     "output_type": "stream",
     "text": [
      "done\n",
      "1000BONKUSDT\n"
     ]
    },
    {
     "name": "stderr",
     "output_type": "stream",
     "text": [
      "100%|█████████▉| 193993200001/194010120000 [00:01<00:00, 148219625243.55it/s]\n"
     ]
    },
    {
     "name": "stdout",
     "output_type": "stream",
     "text": [
      "done\n",
      "PYTHUSDT\n"
     ]
    },
    {
     "name": "stderr",
     "output_type": "stream",
     "text": [
      "100%|█████████▉| 193993200001/194010121000 [00:01<00:00, 171803556637.97it/s]\n"
     ]
    },
    {
     "name": "stdout",
     "output_type": "stream",
     "text": [
      "done\n",
      "SUPERUSDT\n"
     ]
    },
    {
     "name": "stderr",
     "output_type": "stream",
     "text": [
      "100%|█████████▉| 193993200001/194010122000 [00:01<00:00, 151665472741.03it/s]\n"
     ]
    },
    {
     "name": "stdout",
     "output_type": "stream",
     "text": [
      "done\n",
      "USTCUSDT\n"
     ]
    },
    {
     "name": "stderr",
     "output_type": "stream",
     "text": [
      "100%|█████████▉| 193993200001/194010124000 [00:01<00:00, 144921174331.49it/s]\n"
     ]
    },
    {
     "name": "stdout",
     "output_type": "stream",
     "text": [
      "done\n",
      "ONGUSDT\n"
     ]
    },
    {
     "name": "stderr",
     "output_type": "stream",
     "text": [
      "100%|█████████▉| 193993200001/194010125000 [00:01<00:00, 166000106646.15it/s]\n"
     ]
    },
    {
     "name": "stdout",
     "output_type": "stream",
     "text": [
      "done\n",
      "ETHWUSDT\n"
     ]
    },
    {
     "name": "stderr",
     "output_type": "stream",
     "text": [
      "100%|█████████▉| 193993200001/194010126000 [00:01<00:00, 146435489553.64it/s]\n"
     ]
    },
    {
     "name": "stdout",
     "output_type": "stream",
     "text": [
      "done\n",
      "JTOUSDT\n"
     ]
    },
    {
     "name": "stderr",
     "output_type": "stream",
     "text": [
      "100%|█████████▉| 193996800001/194010128000 [00:01<00:00, 193361390634.60it/s]\n"
     ]
    },
    {
     "name": "stdout",
     "output_type": "stream",
     "text": [
      "done\n",
      "1000SATSUSDT\n"
     ]
    },
    {
     "name": "stderr",
     "output_type": "stream",
     "text": [
      "100%|█████████▉| 193996800001/194010129000 [00:00<00:00, 197958755970.32it/s]\n"
     ]
    },
    {
     "name": "stdout",
     "output_type": "stream",
     "text": [
      "done\n",
      "AUCTIONUSDT\n"
     ]
    },
    {
     "name": "stderr",
     "output_type": "stream",
     "text": [
      "100%|█████████▉| 193996800001/194010130000 [00:00<00:00, 195035332044.91it/s]\n"
     ]
    },
    {
     "name": "stdout",
     "output_type": "stream",
     "text": [
      "done\n",
      "1000RATSUSDT\n"
     ]
    },
    {
     "name": "stderr",
     "output_type": "stream",
     "text": [
      "100%|█████████▉| 193996800001/194010131000 [00:00<00:00, 197496241911.41it/s]\n"
     ]
    },
    {
     "name": "stdout",
     "output_type": "stream",
     "text": [
      "done\n",
      "ACEUSDT\n"
     ]
    },
    {
     "name": "stderr",
     "output_type": "stream",
     "text": [
      "100%|█████████▉| 193996800001/194010132000 [00:00<00:00, 217154602858.91it/s]\n"
     ]
    },
    {
     "name": "stdout",
     "output_type": "stream",
     "text": [
      "done\n",
      "MOVRUSDT\n"
     ]
    },
    {
     "name": "stderr",
     "output_type": "stream",
     "text": [
      "100%|█████████▉| 194000400001/194010133000 [00:01<00:00, 165242288741.18it/s]\n"
     ]
    },
    {
     "name": "stdout",
     "output_type": "stream",
     "text": [
      "done\n",
      "NFPUSDT\n"
     ]
    },
    {
     "name": "stderr",
     "output_type": "stream",
     "text": [
      "100%|█████████▉| 194000400001/194010134000 [00:00<00:00, 271636140850.04it/s]\n"
     ]
    },
    {
     "name": "stdout",
     "output_type": "stream",
     "text": [
      "done\n",
      "AIUSDT\n"
     ]
    },
    {
     "name": "stderr",
     "output_type": "stream",
     "text": [
      "100%|█████████▉| 194000400001/194010135000 [00:00<00:00, 297004918733.32it/s]\n"
     ]
    },
    {
     "name": "stdout",
     "output_type": "stream",
     "text": [
      "done\n",
      "XAIUSDT\n"
     ]
    },
    {
     "name": "stderr",
     "output_type": "stream",
     "text": [
      "100%|█████████▉| 194000400001/194010136000 [00:00<00:00, 301987982679.24it/s]\n"
     ]
    },
    {
     "name": "stdout",
     "output_type": "stream",
     "text": [
      "done\n",
      "WIFUSDT\n"
     ]
    },
    {
     "name": "stderr",
     "output_type": "stream",
     "text": [
      "100%|█████████▉| 194004000001/194010136000 [00:00<00:00, 382311659242.55it/s]\n"
     ]
    },
    {
     "name": "stdout",
     "output_type": "stream",
     "text": [
      "done\n",
      "MANTAUSDT\n"
     ]
    },
    {
     "name": "stderr",
     "output_type": "stream",
     "text": [
      "100%|█████████▉| 194004000001/194010137000 [00:00<00:00, 415960418244.64it/s]\n"
     ]
    },
    {
     "name": "stdout",
     "output_type": "stream",
     "text": [
      "done\n",
      "ONDOUSDT\n"
     ]
    },
    {
     "name": "stderr",
     "output_type": "stream",
     "text": [
      "100%|█████████▉| 194004000001/194010137000 [00:00<00:00, 430538508338.26it/s]\n"
     ]
    },
    {
     "name": "stdout",
     "output_type": "stream",
     "text": [
      "done\n",
      "LSKUSDT\n"
     ]
    },
    {
     "name": "stderr",
     "output_type": "stream",
     "text": [
      "100%|█████████▉| 194004000001/194010138000 [00:00<00:00, 440137774721.19it/s]\n"
     ]
    },
    {
     "name": "stdout",
     "output_type": "stream",
     "text": [
      "done\n",
      "ALTUSDT\n"
     ]
    },
    {
     "name": "stderr",
     "output_type": "stream",
     "text": [
      "100%|█████████▉| 194004000001/194010138000 [00:00<00:00, 396029229533.12it/s]\n"
     ]
    },
    {
     "name": "stdout",
     "output_type": "stream",
     "text": [
      "done\n",
      "JUPUSDT\n"
     ]
    },
    {
     "name": "stderr",
     "output_type": "stream",
     "text": [
      "100%|█████████▉| 194004000001/194010139000 [00:00<00:00, 437180227306.90it/s]\n"
     ]
    },
    {
     "name": "stdout",
     "output_type": "stream",
     "text": [
      "done\n",
      "ZETAUSDT\n"
     ]
    },
    {
     "name": "stderr",
     "output_type": "stream",
     "text": [
      "100%|█████████▉| 194004000001/194010139000 [00:00<00:00, 420451816783.52it/s]\n"
     ]
    },
    {
     "name": "stdout",
     "output_type": "stream",
     "text": [
      "done\n",
      "RONINUSDT\n"
     ]
    },
    {
     "name": "stderr",
     "output_type": "stream",
     "text": [
      "100%|█████████▉| 194007600001/194010140000 [00:00<00:00, 928439233808.58it/s]\n"
     ]
    },
    {
     "name": "stdout",
     "output_type": "stream",
     "text": [
      "done\n",
      "DYMUSDT\n"
     ]
    },
    {
     "name": "stderr",
     "output_type": "stream",
     "text": [
      "100%|█████████▉| 194007600001/194010140000 [00:00<00:00, 873332681564.02it/s]\n"
     ]
    },
    {
     "name": "stdout",
     "output_type": "stream",
     "text": [
      "done\n",
      "OMUSDT\n"
     ]
    },
    {
     "name": "stderr",
     "output_type": "stream",
     "text": [
      "100%|█████████▉| 194007600001/194010140000 [00:00<00:00, 971357830010.94it/s]\n"
     ]
    },
    {
     "name": "stdout",
     "output_type": "stream",
     "text": [
      "done\n",
      "PIXELUSDT\n"
     ]
    },
    {
     "name": "stderr",
     "output_type": "stream",
     "text": [
      "100%|█████████▉| 194007600001/194010141000 [00:00<00:00, 1071716999020.90it/s]\n"
     ]
    },
    {
     "name": "stdout",
     "output_type": "stream",
     "text": [
      "done\n",
      "STRKUSDT\n"
     ]
    },
    {
     "name": "stderr",
     "output_type": "stream",
     "text": [
      "100%|█████████▉| 194007600001/194010141000 [00:00<00:00, 1066380000779.21it/s]\n"
     ]
    },
    {
     "name": "stdout",
     "output_type": "stream",
     "text": [
      "done\n",
      "MAVIAUSDT\n"
     ]
    },
    {
     "name": "stderr",
     "output_type": "stream",
     "text": [
      "100%|█████████▉| 194007600001/194010141000 [00:00<00:00, 1083779869176.35it/s]\n"
     ]
    },
    {
     "name": "stdout",
     "output_type": "stream",
     "text": [
      "done\n",
      "GLMUSDT\n"
     ]
    },
    {
     "name": "stderr",
     "output_type": "stream",
     "text": [
      "100%|█████████▉| 194007600001/194010141000 [00:00<00:00, 1091560708216.14it/s]"
     ]
    },
    {
     "name": "stdout",
     "output_type": "stream",
     "text": [
      "done\n"
     ]
    },
    {
     "name": "stderr",
     "output_type": "stream",
     "text": [
      "\n"
     ]
    }
   ],
   "source": [
    "from tqdm import tqdm\n",
    "import dolphindb as ddb\n",
    "import pandas as pd\n",
    "\n",
    "\n",
    "sess = ddb.session(host='localhost', port=8848, userid='admin', password='123456', enableASYNC=True)\n",
    "def insert_data(instrument):\n",
    "    start_time = get_start_time(instrument)\n",
    "    # 每小时的时间戳\n",
    "    # interval = 3600 * 1000\n",
    "    tqdm_num = int(time.time()) * 1000 - start_time\n",
    "    with tqdm(total=int(tqdm_num)) as pbar:\n",
    "        while start_time <= int(time.time()) * 1000:\n",
    "            data = um_futures_client.klines(instrument, \"1h\", startTime=start_time, limit=499)\n",
    "            df = pd.DataFrame(data, columns=['trade_time', 'open', 'high', 'low', 'close', 'volume', 'close_time', 'amount', 'trade_num', 'acitve_volume', 'active_amount', 'drop'])\n",
    "            df['instrument'] = instrument\n",
    "            df['exchange'] = 'BINANCE'\n",
    "            df = df.drop(columns=['close_time', 'drop'])\n",
    "            df['high'] = df['high'].astype(float)\n",
    "            df['open'] = df['open'].astype(float)\n",
    "            df['low'] = df['low'].astype(float)\n",
    "            df['close'] = df['close'].astype(float)\n",
    "            df['volume'] = df['volume'].astype(float)\n",
    "            df['acitve_volume'] = df['acitve_volume'].astype(float)\n",
    "            df['active_amount'] = df['active_amount'].astype(float)\n",
    "            df['amount'] = df['amount'].astype(float)\n",
    "            # 时间差小于1小时\n",
    "            # print((df['trade_time'].iloc[-1] - start_time) / 3600 / 1000)\n",
    "            interval = (df['trade_time'].iloc[-1] - start_time)\n",
    "            if df['trade_time'].iloc[-1] - start_time < 3600 * 1000 * 498:\n",
    "                start_time = int(time.time()) * 1200\n",
    "            else:\n",
    "                start_time = df['trade_time'].iloc[-1] + 3600 * 1000\n",
    "            df['trade_time'] = df['trade_time'] / 1000\n",
    "            df['trade_time'] = pd.to_datetime(df['trade_time'], unit='s')\n",
    "            df['trade_time'] = df['trade_time'] + pd.Timedelta(hours=8)\n",
    "            df = df[['instrument', 'exchange', 'trade_time', 'open', 'close', 'high', 'low', 'volume', 'amount', 'trade_num', 'acitve_volume', 'active_amount']]\n",
    "            sess.run(f\"append!{{loadTable('dfs://crypto_db', `k_hour)}}\", df)\n",
    "            # appender = ddb.tableAppender(dbPath=\"dfs://crypto_db\", tableName=\"k_hour\", ddbSession=sess)\n",
    "            # num = appender.append(df)\n",
    "            pbar.update(interval)\n",
    "        pbar.update(1)\n",
    "\n",
    "\n",
    "for instrument in instruments:\n",
    "    print(instrument)\n",
    "    insert_data(instrument)\n",
    "    print(\"done\")\n",
    "sess.close()"
   ]
  }
 ],
 "metadata": {
  "kernelspec": {
   "display_name": "py310",
   "language": "python",
   "name": "python3"
  },
  "language_info": {
   "codemirror_mode": {
    "name": "ipython",
    "version": 3
   },
   "file_extension": ".py",
   "mimetype": "text/x-python",
   "name": "python",
   "nbconvert_exporter": "python",
   "pygments_lexer": "ipython3",
   "version": "3.10.13"
  }
 },
 "nbformat": 4,
 "nbformat_minor": 2
}
