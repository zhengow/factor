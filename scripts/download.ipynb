{
 "cells": [
  {
   "cell_type": "code",
   "execution_count": 1,
   "metadata": {},
   "outputs": [
    {
     "ename": "AttributeError",
     "evalue": "'NoneType' object has no attribute 'encode'",
     "output_type": "error",
     "traceback": [
      "\u001b[0;31m---------------------------------------------------------------------------\u001b[0m",
      "\u001b[0;31mAttributeError\u001b[0m                            Traceback (most recent call last)",
      "Cell \u001b[0;32mIn[1], line 8\u001b[0m\n\u001b[1;32m      6\u001b[0m instruments \u001b[38;5;241m=\u001b[39m um_futures_client\u001b[38;5;241m.\u001b[39mexchange_info()[\u001b[38;5;124m'\u001b[39m\u001b[38;5;124msymbols\u001b[39m\u001b[38;5;124m'\u001b[39m]\n\u001b[1;32m      7\u001b[0m instruments \u001b[38;5;241m=\u001b[39m [i[\u001b[38;5;124m'\u001b[39m\u001b[38;5;124mpair\u001b[39m\u001b[38;5;124m'\u001b[39m] \u001b[38;5;28;01mfor\u001b[39;00m i \u001b[38;5;129;01min\u001b[39;00m instruments \u001b[38;5;28;01mif\u001b[39;00m i[\u001b[38;5;124m'\u001b[39m\u001b[38;5;124mcontractType\u001b[39m\u001b[38;5;124m'\u001b[39m] \u001b[38;5;241m==\u001b[39m \u001b[38;5;124m'\u001b[39m\u001b[38;5;124mPERPETUAL\u001b[39m\u001b[38;5;124m'\u001b[39m \u001b[38;5;129;01mand\u001b[39;00m i[\u001b[38;5;124m'\u001b[39m\u001b[38;5;124mpair\u001b[39m\u001b[38;5;124m'\u001b[39m]\u001b[38;5;241m.\u001b[39mendswith(\u001b[38;5;124m'\u001b[39m\u001b[38;5;124mUSDT\u001b[39m\u001b[38;5;124m'\u001b[39m)]\n\u001b[0;32m----> 8\u001b[0m \u001b[43mum_futures_client\u001b[49m\u001b[38;5;241;43m.\u001b[39;49m\u001b[43mapi_trading_status\u001b[49m\u001b[43m(\u001b[49m\u001b[43m)\u001b[49m\n\u001b[1;32m      9\u001b[0m \u001b[38;5;66;03m# instruments\u001b[39;00m\n",
      "File \u001b[0;32m/opt/homebrew/Caskroom/miniconda/base/envs/py310/lib/python3.10/site-packages/binance/um_futures/account.py:829\u001b[0m, in \u001b[0;36mapi_trading_status\u001b[0;34m(self, **kwargs)\u001b[0m\n\u001b[1;32m    826\u001b[0m url_path \u001b[38;5;241m=\u001b[39m \u001b[38;5;124m\"\u001b[39m\u001b[38;5;124m/fapi/v1/apiTradingStatus\u001b[39m\u001b[38;5;124m\"\u001b[39m\n\u001b[1;32m    827\u001b[0m params \u001b[38;5;241m=\u001b[39m {\u001b[38;5;241m*\u001b[39m\u001b[38;5;241m*\u001b[39mkwargs}\n\u001b[0;32m--> 829\u001b[0m \u001b[38;5;28;01mreturn\u001b[39;00m \u001b[38;5;28;43mself\u001b[39;49m\u001b[38;5;241;43m.\u001b[39;49m\u001b[43msign_request\u001b[49m\u001b[43m(\u001b[49m\u001b[38;5;124;43m\"\u001b[39;49m\u001b[38;5;124;43mGET\u001b[39;49m\u001b[38;5;124;43m\"\u001b[39;49m\u001b[43m,\u001b[49m\u001b[43m \u001b[49m\u001b[43murl_path\u001b[49m\u001b[43m,\u001b[49m\u001b[43m \u001b[49m\u001b[43mparams\u001b[49m\u001b[43m)\u001b[49m\n",
      "File \u001b[0;32m/opt/homebrew/Caskroom/miniconda/base/envs/py310/lib/python3.10/site-packages/binance/api.py:82\u001b[0m, in \u001b[0;36mAPI.sign_request\u001b[0;34m(self, http_method, url_path, payload, special)\u001b[0m\n\u001b[1;32m     80\u001b[0m payload[\u001b[38;5;124m\"\u001b[39m\u001b[38;5;124mtimestamp\u001b[39m\u001b[38;5;124m\"\u001b[39m] \u001b[38;5;241m=\u001b[39m get_timestamp()\n\u001b[1;32m     81\u001b[0m query_string \u001b[38;5;241m=\u001b[39m \u001b[38;5;28mself\u001b[39m\u001b[38;5;241m.\u001b[39m_prepare_params(payload, special)\n\u001b[0;32m---> 82\u001b[0m payload[\u001b[38;5;124m\"\u001b[39m\u001b[38;5;124msignature\u001b[39m\u001b[38;5;124m\"\u001b[39m] \u001b[38;5;241m=\u001b[39m \u001b[38;5;28;43mself\u001b[39;49m\u001b[38;5;241;43m.\u001b[39;49m\u001b[43m_get_sign\u001b[49m\u001b[43m(\u001b[49m\u001b[43mquery_string\u001b[49m\u001b[43m)\u001b[49m\n\u001b[1;32m     83\u001b[0m \u001b[38;5;28;01mreturn\u001b[39;00m \u001b[38;5;28mself\u001b[39m\u001b[38;5;241m.\u001b[39msend_request(http_method, url_path, payload, special)\n",
      "File \u001b[0;32m/opt/homebrew/Caskroom/miniconda/base/envs/py310/lib/python3.10/site-packages/binance/api.py:153\u001b[0m, in \u001b[0;36mAPI._get_sign\u001b[0;34m(self, payload)\u001b[0m\n\u001b[1;32m    151\u001b[0m \u001b[38;5;28;01mif\u001b[39;00m \u001b[38;5;28mself\u001b[39m\u001b[38;5;241m.\u001b[39mprivate_key:\n\u001b[1;32m    152\u001b[0m     \u001b[38;5;28;01mreturn\u001b[39;00m rsa_signature(\u001b[38;5;28mself\u001b[39m\u001b[38;5;241m.\u001b[39mprivate_key, payload, \u001b[38;5;28mself\u001b[39m\u001b[38;5;241m.\u001b[39mprivate_key_pass)\n\u001b[0;32m--> 153\u001b[0m \u001b[38;5;28;01mreturn\u001b[39;00m \u001b[43mhmac_hashing\u001b[49m\u001b[43m(\u001b[49m\u001b[38;5;28;43mself\u001b[39;49m\u001b[38;5;241;43m.\u001b[39;49m\u001b[43msecret\u001b[49m\u001b[43m,\u001b[49m\u001b[43m \u001b[49m\u001b[43mpayload\u001b[49m\u001b[43m)\u001b[49m\n",
      "File \u001b[0;32m/opt/homebrew/Caskroom/miniconda/base/envs/py310/lib/python3.10/site-packages/binance/lib/authentication.py:10\u001b[0m, in \u001b[0;36mhmac_hashing\u001b[0;34m(secret, payload)\u001b[0m\n\u001b[1;32m      9\u001b[0m \u001b[38;5;28;01mdef\u001b[39;00m \u001b[38;5;21mhmac_hashing\u001b[39m(secret, payload):\n\u001b[0;32m---> 10\u001b[0m     m \u001b[38;5;241m=\u001b[39m hmac\u001b[38;5;241m.\u001b[39mnew(\u001b[43msecret\u001b[49m\u001b[38;5;241;43m.\u001b[39;49m\u001b[43mencode\u001b[49m(\u001b[38;5;124m\"\u001b[39m\u001b[38;5;124mutf-8\u001b[39m\u001b[38;5;124m\"\u001b[39m), payload\u001b[38;5;241m.\u001b[39mencode(\u001b[38;5;124m\"\u001b[39m\u001b[38;5;124mutf-8\u001b[39m\u001b[38;5;124m\"\u001b[39m), hashlib\u001b[38;5;241m.\u001b[39msha256)\n\u001b[1;32m     11\u001b[0m     \u001b[38;5;28;01mreturn\u001b[39;00m m\u001b[38;5;241m.\u001b[39mhexdigest()\n",
      "\u001b[0;31mAttributeError\u001b[0m: 'NoneType' object has no attribute 'encode'"
     ]
    }
   ],
   "source": [
    "from binance.um_futures import UMFutures\n",
    "# time.mktime(time.strptime('2018-01-01 00:00:00'))\n",
    "# 将时间字符串转为时间戳\n",
    "\n",
    "um_futures_client = UMFutures()\n",
    "instruments = um_futures_client.exchange_info()['symbols']\n",
    "instruments = [i['pair'] for i in instruments if i['contractType'] == 'PERPETUAL' and i['pair'].endswith('USDT')]\n",
    "um_futures_client.api_trading_status()\n",
    "# instruments\n"
   ]
  },
  {
   "cell_type": "code",
   "execution_count": null,
   "metadata": {},
   "outputs": [
    {
     "ename": "",
     "evalue": "",
     "output_type": "error",
     "traceback": [
      "\u001b[1;31mRunning cells with '/usr/bin/python3' requires the ipykernel package.\n",
      "\u001b[1;31mRun the following command to install 'ipykernel' into the Python environment. \n",
      "\u001b[1;31mCommand: '/usr/bin/python3 -m pip install ipykernel -U --user --force-reinstall'"
     ]
    }
   ],
   "source": [
    "import time\n",
    "import dolphindb as ddb\n",
    "import pandas as pd\n",
    "\n",
    "def get_start_time(instrument):\n",
    "    sess = ddb.session(host='localhost', port=8848, userid='admin', password='123456')\n",
    "    df = sess.run(f\"select max(trade_time) as t from loadTable('dfs://crypto_db', 'k_hour') where instrument = '{instrument}'\")\n",
    "    sess.close()\n",
    "    if pd.isna(df['t'].iloc[0]):\n",
    "        start_time = int(time.mktime(time.strptime('2018-01-01 00:00:00', '%Y-%m-%d %H:%M:%S'))) * 1000\n",
    "    else:\n",
    "        print(df)\n",
    "        start_time = int(df.iloc[0]['t'].tz_localize('Asia/Shanghai').timestamp()) * 1000\n",
    "    return start_time"
   ]
  },
  {
   "cell_type": "code",
   "execution_count": null,
   "metadata": {},
   "outputs": [
    {
     "ename": "",
     "evalue": "",
     "output_type": "error",
     "traceback": [
      "\u001b[1;31mRunning cells with '/usr/bin/python3' requires the ipykernel package.\n",
      "\u001b[1;31mRun the following command to install 'ipykernel' into the Python environment. \n",
      "\u001b[1;31mCommand: '/usr/bin/python3 -m pip install ipykernel -U --user --force-reinstall'"
     ]
    }
   ],
   "source": [
    "from tqdm import tqdm\n",
    "import dolphindb as ddb\n",
    "import pandas as pd\n",
    "\n",
    "\n",
    "sess = ddb.session(host='localhost', port=8848, userid='admin', password='123456', enableASYNC=True)\n",
    "def insert_data(instrument):\n",
    "    start_time = get_start_time(instrument)\n",
    "    # 每小时的时间戳\n",
    "    # interval = 3600 * 1000\n",
    "    tqdm_num = int(time.time()) * 1000 - start_time\n",
    "    with tqdm(total=int(tqdm_num)) as pbar:\n",
    "        while start_time <= int(time.time()) * 1000:\n",
    "            data = um_futures_client.klines(instrument, \"1h\", startTime=start_time, limit=499)\n",
    "            df = pd.DataFrame(data, columns=['trade_time', 'open', 'high', 'low', 'close', 'volume', 'close_time', 'amount', 'trade_num', 'acitve_volume', 'active_amount', 'drop'])\n",
    "            df['instrument'] = instrument\n",
    "            df['exchange'] = 'BINANCE'\n",
    "            df = df.drop(columns=['close_time', 'drop'])\n",
    "            df['high'] = df['high'].astype(float)\n",
    "            df['open'] = df['open'].astype(float)\n",
    "            df['low'] = df['low'].astype(float)\n",
    "            df['close'] = df['close'].astype(float)\n",
    "            df['volume'] = df['volume'].astype(float)\n",
    "            df['acitve_volume'] = df['acitve_volume'].astype(float)\n",
    "            df['active_amount'] = df['active_amount'].astype(float)\n",
    "            df['amount'] = df['amount'].astype(float)\n",
    "            # 时间差小于1小时\n",
    "            # print((df['trade_time'].iloc[-1] - start_time) / 3600 / 1000)\n",
    "            interval = (df['trade_time'].iloc[-1] - start_time)\n",
    "            if df['trade_time'].iloc[-1] - start_time < 3600 * 1000 * 498:\n",
    "                start_time = int(time.time()) * 1200\n",
    "            else:\n",
    "                start_time = df['trade_time'].iloc[-1] + 3600 * 1000\n",
    "            df['trade_time'] = df['trade_time'] / 1000\n",
    "            df['trade_time'] = pd.to_datetime(df['trade_time'], unit='s')\n",
    "            df['trade_time'] = df['trade_time'] + pd.Timedelta(hours=8)\n",
    "            df = df[['instrument', 'exchange', 'trade_time', 'open', 'close', 'high', 'low', 'volume', 'amount', 'trade_num', 'acitve_volume', 'active_amount']]\n",
    "            sess.run(f\"append!{{loadTable('dfs://crypto_db', `k_hour)}}\", df)\n",
    "            # appender = ddb.tableAppender(dbPath=\"dfs://crypto_db\", tableName=\"k_hour\", ddbSession=sess)\n",
    "            # num = appender.append(df)\n",
    "            pbar.update(interval)\n",
    "        pbar.update(1)\n",
    "\n",
    "\n",
    "for instrument in instruments:\n",
    "    print(instrument)\n",
    "    insert_data(instrument)\n",
    "    print(\"done\")\n",
    "sess.close()"
   ]
  }
 ],
 "metadata": {
  "kernelspec": {
   "display_name": "py310",
   "language": "python",
   "name": "python3"
  },
  "language_info": {
   "codemirror_mode": {
    "name": "ipython",
    "version": 3
   },
   "file_extension": ".py",
   "mimetype": "text/x-python",
   "name": "python",
   "nbconvert_exporter": "python",
   "pygments_lexer": "ipython3",
   "version": "3.10.13"
  }
 },
 "nbformat": 4,
 "nbformat_minor": 2
}
